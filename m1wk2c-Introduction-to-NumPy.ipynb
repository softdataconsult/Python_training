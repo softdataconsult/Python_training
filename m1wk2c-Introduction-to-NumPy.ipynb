{
 "cells": [
  {
   "cell_type": "markdown",
   "id": "67d31dfe",
   "metadata": {},
   "source": [
    "### **Introduction to NumPy for Data Science**\n",
    "**NumPy** (short for Numerical Python) is one of the most fundamental and widely-used libraries in Python for numerical computing and data manipulation. It provides support for working with arrays, matrices, and numerical operations, making it essential for scientific computing and data science tasks.\n",
    "In this note, we’ll cover the basics of NumPy, including its key features, how to work with arrays, important functions, and practical use cases.\n"
   ]
  },
  {
   "cell_type": "markdown",
   "id": "dd30a836",
   "metadata": {},
   "source": [
    "#### Key Features of NumPy\n",
    "\n",
    "1.**Multidimensional Arrays**: NumPy’s core is the `ndarray` (N-dimensional array) object, which is a fast, flexible container for large datasets.\n",
    "\n",
    "2.**Mathematical Functions**: It includes efficient implementations of mathematical operations, such as element-wise operations, matrix transformations, and linear algebra functions.\n",
    "\n",
    "3.**Broadcasting**: NumPy allows operations on arrays of different shapes, applying the operation element-wise through broadcasting.\n",
    "\n",
    "4.**Integration with Other Libraries**: NumPy is the foundation of libraries like Pandas, SciPy, TensorFlow, and others in Python’s data science ecosystem.\n",
    "\n",
    "\n",
    "#### NumPy Basics\n",
    "\n",
    "##### 1. Importing NumPy\n",
    "To use NumPy, you first need to import the library:\n",
    "\n",
    "`import numpy as np`\n",
    "\n",
    "It’s common to import NumPy with the alias **np**, as it saves typing in the code.\n",
    "\n",
    "##### 2. NumPy Arrays\n",
    "\n",
    "NumPy’s main object is the **array**. You can create arrays in different ways:\n",
    "\n",
    "\n",
    "##### 2.1 Creating Arrays from Lists\n",
    "\n"
   ]
  },
  {
   "cell_type": "code",
   "execution_count": 1,
   "id": "6442ad13",
   "metadata": {},
   "outputs": [
    {
     "name": "stdout",
     "output_type": "stream",
     "text": [
      "[1 2 3 4 5]\n"
     ]
    }
   ],
   "source": [
    "import numpy as np\n",
    "\n",
    "# 1D array\n",
    "arr = np.array([1, 2, 3, 4, 5])\n",
    "print(arr)\n"
   ]
  },
  {
   "cell_type": "code",
   "execution_count": 2,
   "id": "d7cb2633",
   "metadata": {},
   "outputs": [
    {
     "name": "stdout",
     "output_type": "stream",
     "text": [
      "[[1 2 3]\n",
      " [4 5 6]]\n"
     ]
    }
   ],
   "source": [
    "# 2D array (Matrix)\n",
    "matrix = np.array([[1, 2, 3], [4, 5, 6]])\n",
    "print(matrix)\n"
   ]
  },
  {
   "cell_type": "markdown",
   "id": "8ba4274f",
   "metadata": {},
   "source": [
    "##### 2.2 Creating Arrays with Zeros, Ones, and Custom Values\n",
    "NumPy provides convenience functions to create arrays with specific values:\n",
    "\n",
    "•\t**np.zeros():** Creates an array filled with zeros.\n",
    "\n",
    "•\t**np.ones():** Creates an array filled with ones.\n",
    "\n",
    "•\t**np.full():** Creates an array filled with a specified value.\n"
   ]
  },
  {
   "cell_type": "code",
   "execution_count": 3,
   "id": "1bb3cfbb",
   "metadata": {},
   "outputs": [
    {
     "name": "stdout",
     "output_type": "stream",
     "text": [
      "[[0. 0. 0.]\n",
      " [0. 0. 0.]]\n",
      "[[1. 1. 1. 1.]\n",
      " [1. 1. 1. 1.]\n",
      " [1. 1. 1. 1.]]\n",
      "[[8 8]\n",
      " [8 8]]\n"
     ]
    }
   ],
   "source": [
    "# Array of zeros\n",
    "zero_array = np.zeros((2, 3))\n",
    "print(zero_array)\n",
    "\n",
    "# Array of ones\n",
    "ones_array = np.ones((3, 4))\n",
    "print(ones_array)\n",
    "\n",
    "# Array filled with a specific value\n",
    "custom_array = np.full((2, 2), 8) # fill 1 2 by 2 matrix with 7\n",
    "print(custom_array)\n"
   ]
  },
  {
   "cell_type": "markdown",
   "id": "6c3dd109",
   "metadata": {},
   "source": [
    "#### 2.3 Creating Arrays with a Sequence of Numbers\n",
    "•\t**np.arange()**: Generates a sequence of numbers with a specified step.\n",
    "\n",
    "•\t**np.linspace()**: Generates a sequence of numbers with a specified number of points between a start and stop value."
   ]
  },
  {
   "cell_type": "code",
   "execution_count": 4,
   "id": "0ff5cdc0",
   "metadata": {},
   "outputs": [
    {
     "name": "stdout",
     "output_type": "stream",
     "text": [
      "[ 0  2  4  6  8 10]\n",
      "[0.         0.11111111 0.22222222 0.33333333 0.44444444 0.55555556\n",
      " 0.66666667 0.77777778 0.88888889 1.        ]\n"
     ]
    }
   ],
   "source": [
    "# Array with a range of numbers\n",
    "range_array = np.arange(0, 12, 2)  # From 0 to 10, with a step of 2\n",
    "print(range_array)\n",
    "\n",
    "# Array with a sequence of evenly spaced numbers\n",
    "linspace_array = np.linspace(0, 1, 10)  # From 0 to 1, 5 points\n",
    "print(linspace_array)\n"
   ]
  },
  {
   "cell_type": "code",
   "execution_count": 5,
   "id": "5e8beff3",
   "metadata": {},
   "outputs": [
    {
     "name": "stdout",
     "output_type": "stream",
     "text": [
      "A:  [[15 16 17]\n",
      " [18 19 20]\n",
      " [21 22 23]]\n",
      "B:  [[20 21 22]\n",
      " [23 24 25]\n",
      " [26 27 28]]\n"
     ]
    }
   ],
   "source": [
    "import numpy as np\n",
    "# NumPy matrices\n",
    "A = np.arange(15,24).reshape(3,3)\n",
    "B = np.arange(20,29).reshape(3,3)\n",
    "print(\"A: \",A)\n",
    "print(\"B: \",B)\n",
    "# Multiply A and B\n",
    "#result = A.dot(B)\n",
    "#print(\"Result: \", result)"
   ]
  },
  {
   "cell_type": "markdown",
   "id": "ee89166f",
   "metadata": {},
   "source": [
    "#### Array Operations\n",
    "NumPy provides various operations for manipulating arrays efficiently. These operations are often faster than their equivalent Python list operations.\n",
    "\n",
    "##### 1. Element-wise Operations\n",
    "NumPy allows you to perform operations on each element of an array."
   ]
  },
  {
   "cell_type": "code",
   "execution_count": 6,
   "id": "cec0fdbf",
   "metadata": {},
   "outputs": [
    {
     "name": "stdout",
     "output_type": "stream",
     "text": [
      "[5 7 9]\n",
      "[ 4 10 18]\n"
     ]
    }
   ],
   "source": [
    "# Element-wise addition\n",
    "arr1 = np.array([1, 2, 3])\n",
    "arr2 = np.array([4, 5, 6])\n",
    "result = arr1 + arr2  # Adds corresponding elements\n",
    "print(result)\n",
    "\n",
    "# Element-wise multiplication\n",
    "result = arr1*arr2  # Multiplies corresponding elements\n",
    "print(result)\n"
   ]
  },
  {
   "cell_type": "markdown",
   "id": "6082b1e6",
   "metadata": {},
   "source": [
    "#### 2. Broadcasting\n",
    "*Broadcasting* is a feature that allows NumPy to perform operations between arrays of different shapes.\n"
   ]
  },
  {
   "cell_type": "code",
   "execution_count": 7,
   "id": "318d2e1d",
   "metadata": {},
   "outputs": [
    {
     "name": "stdout",
     "output_type": "stream",
     "text": [
      "[41 42 43]\n"
     ]
    }
   ],
   "source": [
    "# Add scalar to each element of the array\n",
    "arr = np.array([1, 2, 3])\n",
    "result = arr + 40\n",
    "print(result)\n"
   ]
  },
  {
   "cell_type": "markdown",
   "id": "31619a77",
   "metadata": {},
   "source": [
    "#### 3. Mathematical Functions\n",
    "NumPy provides a wide range of mathematical functions that can be applied to arrays.\n"
   ]
  },
  {
   "cell_type": "code",
   "execution_count": 8,
   "id": "c47e0766",
   "metadata": {},
   "outputs": [
    {
     "name": "stdout",
     "output_type": "stream",
     "text": [
      "[ 2.71828183  7.3890561  20.08553692 54.59815003]\n",
      "[1.         1.41421356 1.73205081 2.        ]\n",
      "[ 1  4  9 16]\n",
      "[ 0.84147098  0.90929743  0.14112001 -0.7568025 ]\n",
      "[ 0.54030231 -0.41614684 -0.9899925  -0.65364362]\n",
      "[ 1  4  9 16]\n",
      "[ 1  8 27 64]\n",
      "[  1  16  81 256]\n",
      "[   1   32  243 1024]\n"
     ]
    }
   ],
   "source": [
    "arr = np.array([1, 2, 3, 4])\n",
    "\n",
    "# # Exponentiation\n",
    "print(np.exp(arr))\n",
    "\n",
    "# # Square root\n",
    "print(np.sqrt(arr))\n",
    "\n",
    "# # square\n",
    "print(np.square(arr))\n",
    "\n",
    "# # Trigonometric functions\n",
    "print(np.sin(arr))\n",
    "print(np.cos(arr))\n",
    "\n",
    "## Power \n",
    "print(arr**2) # power of 2\n",
    "print(arr**3) # power of 3\n",
    "print(arr**4) # power of 4\n",
    "print(arr**5) # power of 5"
   ]
  },
  {
   "cell_type": "code",
   "execution_count": 9,
   "id": "33832094",
   "metadata": {},
   "outputs": [
    {
     "data": {
      "text/plain": [
       "array([ 1,  4,  9, 16])"
      ]
     },
     "execution_count": 9,
     "metadata": {},
     "output_type": "execute_result"
    }
   ],
   "source": [
    "arr = np.array([1, 2, 3, 4])\n",
    "arr_square = arr**2\n",
    "arr_square"
   ]
  },
  {
   "cell_type": "markdown",
   "id": "46877994",
   "metadata": {},
   "source": [
    "#### Array Indexing and Slicing\n",
    "Just like Python lists, you can access and modify individual elements or slices of a NumPy array.\n",
    "##### 1. Indexing\n"
   ]
  },
  {
   "cell_type": "code",
   "execution_count": 10,
   "id": "c33dde71",
   "metadata": {},
   "outputs": [
    {
     "name": "stdout",
     "output_type": "stream",
     "text": [
      "40\n"
     ]
    }
   ],
   "source": [
    "arr = np.array([10, 20, 30, 40, 50])\n",
    "print(arr[3])  # Access element at index 3\n",
    "# "
   ]
  },
  {
   "cell_type": "markdown",
   "id": "baabad60",
   "metadata": {},
   "source": [
    "##### 2. Slicing\n",
    "You can extract specific parts (slices) of an array using slicing notation.\n"
   ]
  },
  {
   "cell_type": "code",
   "execution_count": 11,
   "id": "dcd89ddd",
   "metadata": {},
   "outputs": [
    {
     "name": "stdout",
     "output_type": "stream",
     "text": [
      "[20 30 40]\n",
      "[10 30 50]\n"
     ]
    }
   ],
   "source": [
    "arr = np.array([10, 20, 30, 40, 50])\n",
    "\n",
    "# Slice from index 1 to 4 (exclusive)\n",
    "print(arr[1:4])\n",
    "\n",
    "# Slice with a step\n",
    "print(arr[::2])  # first element followed by every second element\n"
   ]
  },
  {
   "cell_type": "markdown",
   "id": "4c358992",
   "metadata": {},
   "source": [
    "For 2D arrays (matrices), you can access rows and columns with indexing and slicing."
   ]
  },
  {
   "cell_type": "code",
   "execution_count": 12,
   "id": "e65cec46",
   "metadata": {},
   "outputs": [
    {
     "name": "stdout",
     "output_type": "stream",
     "text": [
      "[[1 2 3]\n",
      " [4 5 6]\n",
      " [7 8 9]]\n",
      "[1 2 3]\n",
      "6\n",
      "[[1 2]\n",
      " [4 5]]\n"
     ]
    }
   ],
   "source": [
    "matrix = np.array([[1, 2, 3], [4, 5, 6], [7, 8, 9]])\n",
    "print(matrix)\n",
    "\n",
    "# Access the first row\n",
    "print(matrix[0])\n",
    "\n",
    "# Access the element at row 1, column 2\n",
    "print(matrix[1, 2])\n",
    "\n",
    "# Slice a submatrix (rows 0 and 1, columns 0 and 1)\n",
    "print(matrix[0:2, 0:2])"
   ]
  },
  {
   "cell_type": "markdown",
   "id": "9d3c056f",
   "metadata": {},
   "source": [
    "This code demonstrates various ways of accessing and slicing elements in a NumPy 2D array (matrix). \n",
    "\n",
    "#### The matrix:\n",
    "\n",
    "```python\n",
    "matrix = np.array([[1, 2, 3], \n",
    "                   [4, 5, 6], \n",
    "                   [7, 8, 9]])\n",
    "```\n",
    "\n",
    "This creates a 3x3 matrix (2D array):\n",
    "$$\n",
    "\\begin{bmatrix}\n",
    "1 & 2 & 3 \\\\\n",
    "4 & 5 & 6 \\\\\n",
    "7 & 8 & 9\n",
    "\\end{bmatrix}\n",
    "$$\n",
    "\n",
    "#### 1. **Access the first row (`matrix[0]`)**\n",
    "\n",
    "```python\n",
    "print(matrix[0])\n",
    "```\n",
    "\n",
    "- `matrix[0]` refers to the first row of the matrix.\n",
    "- Indexing in Python and NumPy starts from `0`, so `matrix[0]` selects the entire first row (index `0`).\n",
    "  \n",
    "Output:\n",
    "```plaintext\n",
    "[1 2 3]\n",
    "```\n",
    "\n",
    "This prints the first row of the matrix, which is `[1, 2, 3]`.\n",
    "\n",
    "#### 2. **Access the element at row 1, column 2 (`matrix[1, 2]`)**\n",
    "\n",
    "```python\n",
    "print(matrix[1, 2])\n",
    "```\n",
    "\n",
    "- `matrix[1, 2]` refers to the element located in the second row (index `1`) and the third column (index `2`).\n",
    "  \n",
    "In the matrix:\n",
    "$$\n",
    "\\begin{bmatrix}\n",
    "1 & 2 & 3 \\\\\n",
    "4 & 5 & 6 \\\\\n",
    "7 & 8 & 9\n",
    "\\end{bmatrix}\n",
    "$$\n",
    "The element in row 1, column 2 is `6`.\n",
    "\n",
    "Output:\n",
    "```plaintext\n",
    "6\n",
    "```\n",
    "\n",
    "#### 3. **Slice a submatrix (`matrix[0:2, 0:2]`)**\n",
    "\n",
    "```python\n",
    "print(matrix[0:2, 0:2])\n",
    "```\n",
    "\n",
    "- `matrix[0:2, 0:2]` slices a submatrix from the original matrix.\n",
    "- **Rows `0:2`**: This specifies that you want rows from index `0` up to (but not including) index `2`, which means you are selecting the first two rows.\n",
    "- **Columns `0:2`**: Similarly, this specifies columns from index `0` up to (but not including) index `2`, meaning you are selecting the first two columns.\n",
    "\n",
    "So, from the original matrix:\n",
    "$$\n",
    "\\begin{bmatrix}\n",
    "1 & 2 & 3 \\\\\n",
    "4 & 5 & 6 \\\\\n",
    "7 & 8 & 9\n",
    "\\end{bmatrix}\n",
    "$$\n",
    "\n",
    "The submatrix formed by rows `0:2` and columns `0:2` is:\n",
    "$$\n",
    "\\begin{bmatrix}\n",
    "1 & 2 \\\\\n",
    "4 & 5\n",
    "\\end{bmatrix}\n",
    "$$\n",
    "\n",
    "Output:\n",
    "```plaintext\n",
    "[[1 2]\n",
    " [4 5]]\n",
    "```\n",
    "\n",
    "#### Summary:\n",
    "\n",
    "- `matrix[0]` returns the first row `[1, 2, 3]`.\n",
    "- `matrix[1, 2]` accesses the element at row `1` and column `2`, which is `6`.\n",
    "- `matrix[0:2, 0:2]` slices a 2x2 submatrix from the top-left corner, resulting in `[[1, 2], [4, 5]]`."
   ]
  },
  {
   "cell_type": "markdown",
   "id": "0aac4677",
   "metadata": {},
   "source": [
    "### Shape and Reshaping\n",
    "##### 1. Array Shape\n",
    "The shape of an array is its size along each dimension. You can access the shape of an array with .shape.\n"
   ]
  },
  {
   "cell_type": "code",
   "execution_count": 13,
   "id": "c0cc681e",
   "metadata": {},
   "outputs": [
    {
     "name": "stdout",
     "output_type": "stream",
     "text": [
      "(2, 3)\n",
      "6\n"
     ]
    }
   ],
   "source": [
    "arr = np.array([[1, 2, 3], [4, 5, 6]])\n",
    "print(arr.shape)  # Output: (2, 3)\n",
    "print(arr.size)  # Output: 6"
   ]
  },
  {
   "cell_type": "markdown",
   "id": "659575ae",
   "metadata": {},
   "source": [
    "#### 2. Reshaping Arrays\n",
    "You can change the shape of an array with np.reshape().\n"
   ]
  },
  {
   "cell_type": "code",
   "execution_count": 14,
   "id": "188204fd",
   "metadata": {},
   "outputs": [
    {
     "name": "stdout",
     "output_type": "stream",
     "text": [
      "[[1 2]\n",
      " [3 4]\n",
      " [5 6]]\n"
     ]
    }
   ],
   "source": [
    "arr = np.array([1, 2, 3, 4, 5, 6])\n",
    "reshaped_arr = arr.reshape((3, 2))  # Reshape to a 2x3 array\n",
    "print(reshaped_arr)\n"
   ]
  },
  {
   "cell_type": "markdown",
   "id": "3db6dd75",
   "metadata": {},
   "source": [
    "#### Aggregations and Statistics\n",
    "NumPy offers a wide range of functions for calculating aggregates and statistics.\n"
   ]
  },
  {
   "cell_type": "code",
   "execution_count": 15,
   "id": "55a499bb",
   "metadata": {},
   "outputs": [
    {
     "name": "stdout",
     "output_type": "stream",
     "text": [
      "21\n",
      "3.5\n",
      "1.707825127659933\n",
      "6\n",
      "1\n"
     ]
    }
   ],
   "source": [
    "# Sum of all elements\n",
    "print(np.sum(arr))\n",
    "\n",
    "# Mean (average)\n",
    "print(np.mean(arr))\n",
    "\n",
    "# Standard deviation\n",
    "print(np.std(arr))\n",
    "\n",
    "# Maximum and minimum\n",
    "print(np.max(arr))\n",
    "print(np.min(arr))"
   ]
  },
  {
   "cell_type": "markdown",
   "id": "199c1ef4",
   "metadata": {},
   "source": [
    "You can apply these functions along specific axes in a multidimensional array"
   ]
  },
  {
   "cell_type": "code",
   "execution_count": 16,
   "id": "883e505e",
   "metadata": {},
   "outputs": [
    {
     "name": "stdout",
     "output_type": "stream",
     "text": [
      "[ 6 15]\n",
      "[5 7 9]\n"
     ]
    }
   ],
   "source": [
    "matrix = np.array([[1, 2, 3], [4, 5, 6]])\n",
    "\n",
    "# Sum along the rows (axis=1)\n",
    "print(np.sum(matrix, axis=1))\n",
    "\n",
    "# Sum along the columns (axis=0)\n",
    "print(np.sum(matrix, axis=0))\n"
   ]
  },
  {
   "cell_type": "markdown",
   "id": "fb13f070",
   "metadata": {},
   "source": [
    "#### Linear Algebra with NumPy\n",
    "NumPy has several functions for performing matrix and vector operations. These include:\n"
   ]
  },
  {
   "cell_type": "markdown",
   "id": "dcc7c235",
   "metadata": {},
   "source": [
    "##### 1.\tDot Product:"
   ]
  },
  {
   "cell_type": "code",
   "execution_count": 17,
   "id": "391b153b",
   "metadata": {},
   "outputs": [
    {
     "name": "stdout",
     "output_type": "stream",
     "text": [
      "11\n"
     ]
    }
   ],
   "source": [
    " \t# Dot product of two arrays\n",
    "import numpy as np\n",
    "a = np.array([1, 2])\n",
    "b = np.array([3, 4])\n",
    "dot_product = np.dot(a, b)\n",
    "print(dot_product)\n"
   ]
  },
  {
   "cell_type": "markdown",
   "id": "810b319f",
   "metadata": {},
   "source": [
    "#### Code Breakdown:\n",
    "\n",
    "```python\n",
    "import numpy as np\n",
    "\n",
    "# Two 1D arrays\n",
    "a = np.array([1, 2])  # Array 'a' with elements [1, 2]\n",
    "b = np.array([3, 4])  # Array 'b' with elements [3, 4]\n",
    "\n",
    "# Compute the dot product\n",
    "dot_product = np.dot(a, b)\n",
    "\n",
    "# Print the result\n",
    "print(dot_product)  # Output will be 11\n",
    "```\n",
    "\n",
    "#### What is the Dot Product?\n",
    "\n",
    "For two 1D arrays (vectors) `a = [1, 2]` and `b = [3, 4]`, the **dot product** is calculated as:\n",
    "\n",
    "\n",
    "$$ \\text{dot product} = (a_1 \\times b_1) + (a_2 \\times b_2)$$\n",
    "\n",
    "\n",
    "For your specific arrays:\n",
    "\n",
    "$$ \\text{dot product} = (1 \\times 3) + (2 \\times 4) = 3 + 8 = 11 $$\n",
    "\n",
    "#### Explanation of the Code:\n",
    "\n",
    "1. **Arrays Creation**:\n",
    "   - `a = np.array([1, 2])` creates a NumPy array `a` with elements `[1, 2]`.\n",
    "   - `b = np.array([3, 4])` creates a NumPy array `b` with elements `[3, 4]`.\n",
    "\n",
    "2. **Dot Product Calculation**:\n",
    "   - `np.dot(a, b)` computes the dot product between the two arrays `a` and `b`.\n",
    "   - For 1D arrays, this is equivalent to multiplying corresponding elements and then summing the results.\n",
    "\n",
    "3. **Print Output**:\n",
    "   - `print(dot_product)` outputs `11`, which is the result of the dot product of `[1, 2]` and `[3, 4]`.\n",
    "\n",
    "#### General Formula for Dot Product of Two Vectors:\n",
    "If you have two vectors $ a = [a_1, a_2, ..., a_n]$ and $ b = [b_1, b_2, ..., b_n] $, the dot product is calculated as:\n",
    "\n",
    "$$\\text{dot product} = a_1 \\times b_1 + a_2 \\times b_2 + ... + a_n \\times b_n $$\n",
    "\n",
    "In this case, since the vectors have only 2 elements, it's a simple summation of products of the corresponding elements.\n",
    "\n",
    "#### Practical Use of Dot Product:\n",
    "- **In Geometry**: The dot product is used to find the angle between two vectors.\n",
    "- **In Machine Learning**: It is often used in calculations related to linear algebra, such as in the computation of weighted sums in neural networks and projections in data transformations."
   ]
  },
  {
   "cell_type": "markdown",
   "id": "6c09d901",
   "metadata": {},
   "source": [
    "#### 2.\tMatrix Multiplication:"
   ]
  },
  {
   "cell_type": "code",
   "execution_count": 18,
   "id": "e2b43e1c",
   "metadata": {},
   "outputs": [
    {
     "name": "stdout",
     "output_type": "stream",
     "text": [
      "[[29 52 57]\n",
      " [57 92 91]\n",
      " [57 92 91]]\n"
     ]
    }
   ],
   "source": [
    " \t# Matrix multiplication\n",
    "matrix1 = np.array([[1, 2, 5], [3, 4, 7], [3, 4, 7]])\n",
    "matrix2 = np.array([[5, 6, 4], [7, 8, 4], [2, 6, 9]])\n",
    "result = np.dot(matrix1, matrix2)\n",
    "print(result)"
   ]
  },
  {
   "cell_type": "code",
   "execution_count": 19,
   "id": "bab5cbf5",
   "metadata": {},
   "outputs": [
    {
     "data": {
      "text/plain": [
       "array([[1, 2, 5],\n",
       "       [3, 4, 1],\n",
       "       [3, 9, 7]])"
      ]
     },
     "execution_count": 19,
     "metadata": {},
     "output_type": "execute_result"
    }
   ],
   "source": [
    "matrix1 = np.array([[1, 2, 5], [3, 4, 1], [3, 9, 7]])\n",
    "matrix1"
   ]
  },
  {
   "cell_type": "code",
   "execution_count": null,
   "id": "afe54b70",
   "metadata": {},
   "outputs": [],
   "source": []
  },
  {
   "cell_type": "code",
   "execution_count": 20,
   "id": "8779dba2",
   "metadata": {},
   "outputs": [
    {
     "data": {
      "text/plain": [
       "array([[5, 6],\n",
       "       [7, 8]])"
      ]
     },
     "execution_count": 20,
     "metadata": {},
     "output_type": "execute_result"
    }
   ],
   "source": [
    "matrix2 = np.array([[5, 6], [7, 8]])\n",
    "matrix2 "
   ]
  },
  {
   "cell_type": "code",
   "execution_count": 21,
   "id": "c1e3e490",
   "metadata": {},
   "outputs": [
    {
     "data": {
      "text/plain": [
       "array([[1, 2],\n",
       "       [3, 4]])"
      ]
     },
     "execution_count": 21,
     "metadata": {},
     "output_type": "execute_result"
    }
   ],
   "source": [
    "matrix1 = np.array([[1, 2], [3, 4]])\n",
    "matrix1"
   ]
  },
  {
   "cell_type": "markdown",
   "id": "eb680cd5",
   "metadata": {},
   "source": [
    "This code performs **matrix multiplication** between two 2D arrays (`matrix1` and `matrix2`) using NumPy's `np.dot()` function. Let's break it down:\n",
    "\n",
    "#### The matrices:\n",
    "\n",
    "```python\n",
    "matrix1 = np.array([[1, 2], \n",
    "                    [3, 4]])\n",
    "\n",
    "matrix2 = np.array([[5, 6], \n",
    "                    [7, 8]])\n",
    "```\n",
    "\n",
    "These create two 2x2 matrices:\n",
    "\n",
    "Matrix 1:\n",
    "$$\n",
    "\\begin{bmatrix}\n",
    "1 & 2 \\\\\n",
    "3 & 4\n",
    "\\end{bmatrix}\n",
    "$$\n",
    "\n",
    "Matrix 2:\n",
    "$$\n",
    "\\begin{bmatrix}\n",
    "5 & 6 \\\\\n",
    "7 & 8\n",
    "\\end{bmatrix}\n",
    "$$\n",
    "\n",
    "#### Matrix Multiplication:\n",
    "\n",
    "Matrix multiplication is not the same as element-wise multiplication. Instead, it follows a rule where each element in the resulting matrix is the dot product of rows from the first matrix and columns from the second matrix.\n",
    "\n",
    "In Python, this operation is performed by:\n",
    "```python\n",
    "result = np.dot(matrix1, matrix2)\n",
    "```\n",
    "\n",
    "- The dot product of two matrices is calculated by multiplying the rows of the first matrix by the columns of the second matrix and summing the products.\n",
    "\n",
    "For two 2x2 matrices `(A)` and `(B )`, the result of their multiplication is:\n",
    "\n",
    "$$\n",
    "\\text{Result}_{i,j} = \\sum \\text{A}_{i,k} \\times \\text{B}_{k,j}\n",
    "$$\n",
    "\n",
    "#### Step-by-step Calculation:\n",
    "\n",
    "For the first element of the resulting matrix (row 1, column 1):\n",
    "\n",
    "\n",
    "$$(1 \\times 5) + (2 \\times 7) = 5 + 14 = 19$$\n",
    "\n",
    "\n",
    "For the first row, second column: (row 1, column 2)\n",
    "\n",
    "\n",
    "$$(1 \\times 6) + (2 \\times 8) = 6 + 16 = 22$$\n",
    "\n",
    "For the second row, first column: (row 2, column 1)\n",
    "\n",
    "\n",
    "$$(3 \\times 5) + (4 \\times 7) = 15 + 28 = 43$$\n",
    "\n",
    "For the second row, second column:  (row 2, column 2)\n",
    "\n",
    "\n",
    "$$(3 \\times 6) + (4 \\times 8) = 18 + 32 = 50$$\n",
    "\n",
    "#### The result:\n",
    "\n",
    "So, the resulting matrix is:\n",
    "$$\n",
    "\\begin{bmatrix}\n",
    "19 & 22 \\\\\n",
    "43 & 50\n",
    "\\end{bmatrix}\n",
    "$$\n",
    "\n",
    "#### Output:\n",
    "\n",
    "```python\n",
    "print(result)\n",
    "```\n",
    "\n",
    "This will output:\n",
    "```plaintext\n",
    "[[19 22]\n",
    " [43 50]]\n",
    "```\n",
    "\n",
    "### Summary:\n",
    "\n",
    "- Matrix multiplication of `matrix1` and `matrix2` is performed using the `np.dot()` function.\n",
    "- The resulting matrix is computed by summing the products of corresponding elements from rows of the first matrix and columns of the second matrix.\n",
    "- The final result is `[[19, 22], [43, 50]]`."
   ]
  },
  {
   "cell_type": "markdown",
   "id": "6a262014",
   "metadata": {},
   "source": [
    "#### 3.\tDeterminant, Inverse, and Eigenvalues:"
   ]
  },
  {
   "cell_type": "code",
   "execution_count": 22,
   "id": "c5f815ef",
   "metadata": {},
   "outputs": [
    {
     "name": "stdout",
     "output_type": "stream",
     "text": [
      "-2.0000000000000004\n",
      "[[-2.   1. ]\n",
      " [ 1.5 -0.5]]\n",
      "EigResult(eigenvalues=array([-0.37228132,  5.37228132]), eigenvectors=array([[-0.82456484, -0.41597356],\n",
      "       [ 0.56576746, -0.90937671]]))\n"
     ]
    }
   ],
   "source": [
    "from numpy.linalg import inv, det, eig\n",
    "\n",
    "matrix = np.array([[1, 2], [3, 4]])\n",
    "\n",
    "# Determinant\n",
    "print(det(matrix))\n",
    "\n",
    "# Inverse\n",
    "print(inv(matrix))\n",
    "\n",
    "# Eigenvalues\n",
    "print(eig(matrix))\n"
   ]
  },
  {
   "cell_type": "code",
   "execution_count": 23,
   "id": "014a737c",
   "metadata": {},
   "outputs": [
    {
     "name": "stdout",
     "output_type": "stream",
     "text": [
      "Collecting numpy.linalg\n",
      "  Downloading numpy-linalg-0.1.tar.gz (3.2 kB)\n",
      "  Installing build dependencies: started\n",
      "  Installing build dependencies: finished with status 'done'\n",
      "  Getting requirements to build wheel: started\n",
      "  Getting requirements to build wheel: finished with status 'done'\n",
      "  Preparing metadata (pyproject.toml): started\n",
      "  Preparing metadata (pyproject.toml): finished with status 'done'\n",
      "Collecting numpy==1.18.1 (from numpy.linalg)\n",
      "  Downloading numpy-1.18.1.zip (5.4 MB)\n",
      "     ---------------------------------------- 0.0/5.4 MB ? eta -:--:--\n",
      "     ---------------------------------------- 0.0/5.4 MB ? eta -:--:--\n",
      "     ---------------------------------------- 0.0/5.4 MB ? eta -:--:--\n",
      "     ---------------------------------------- 0.0/5.4 MB ? eta -:--:--\n",
      "     ---------------------------------------- 0.0/5.4 MB ? eta -:--:--\n",
      "     ---------------------------------------- 0.0/5.4 MB ? eta -:--:--\n",
      "     - -------------------------------------- 0.3/5.4 MB ? eta -:--:--\n",
      "     - -------------------------------------- 0.3/5.4 MB ? eta -:--:--\n",
      "     --- ------------------------------------ 0.5/5.4 MB 535.5 kB/s eta 0:00:10\n",
      "     --- ------------------------------------ 0.5/5.4 MB 535.5 kB/s eta 0:00:10\n",
      "     ----- ---------------------------------- 0.8/5.4 MB 521.3 kB/s eta 0:00:09\n",
      "     ----- ---------------------------------- 0.8/5.4 MB 521.3 kB/s eta 0:00:09\n",
      "     ----- ---------------------------------- 0.8/5.4 MB 521.3 kB/s eta 0:00:09\n",
      "     ----- ---------------------------------- 0.8/5.4 MB 521.3 kB/s eta 0:00:09\n",
      "     ----- ---------------------------------- 0.8/5.4 MB 521.3 kB/s eta 0:00:09\n",
      "     ----- ---------------------------------- 0.8/5.4 MB 521.3 kB/s eta 0:00:09\n",
      "     ----- ---------------------------------- 0.8/5.4 MB 521.3 kB/s eta 0:00:09\n",
      "     ------- -------------------------------- 1.0/5.4 MB 317.8 kB/s eta 0:00:14\n",
      "     ------- -------------------------------- 1.0/5.4 MB 317.8 kB/s eta 0:00:14\n",
      "     ------- -------------------------------- 1.0/5.4 MB 317.8 kB/s eta 0:00:14\n",
      "     ------- -------------------------------- 1.0/5.4 MB 317.8 kB/s eta 0:00:14\n",
      "     ------- -------------------------------- 1.0/5.4 MB 317.8 kB/s eta 0:00:14\n",
      "     ------- -------------------------------- 1.0/5.4 MB 317.8 kB/s eta 0:00:14\n",
      "     ------- -------------------------------- 1.0/5.4 MB 317.8 kB/s eta 0:00:14\n",
      "     --------- ------------------------------ 1.3/5.4 MB 268.5 kB/s eta 0:00:16\n",
      "     --------- ------------------------------ 1.3/5.4 MB 268.5 kB/s eta 0:00:16\n",
      "     --------- ------------------------------ 1.3/5.4 MB 268.5 kB/s eta 0:00:16\n",
      "     --------- ------------------------------ 1.3/5.4 MB 268.5 kB/s eta 0:00:16\n",
      "     --------- ------------------------------ 1.3/5.4 MB 268.5 kB/s eta 0:00:16\n",
      "     --------- ------------------------------ 1.3/5.4 MB 268.5 kB/s eta 0:00:16\n",
      "     --------- ------------------------------ 1.3/5.4 MB 268.5 kB/s eta 0:00:16\n",
      "     --------- ------------------------------ 1.3/5.4 MB 268.5 kB/s eta 0:00:16\n",
      "     --------- ------------------------------ 1.3/5.4 MB 268.5 kB/s eta 0:00:16\n",
      "     ----------- ---------------------------- 1.6/5.4 MB 227.4 kB/s eta 0:00:17\n",
      "     ----------- ---------------------------- 1.6/5.4 MB 227.4 kB/s eta 0:00:17\n",
      "     ----------- ---------------------------- 1.6/5.4 MB 227.4 kB/s eta 0:00:17\n",
      "     ------------- -------------------------- 1.8/5.4 MB 244.0 kB/s eta 0:00:15\n",
      "     ------------- -------------------------- 1.8/5.4 MB 244.0 kB/s eta 0:00:15\n",
      "     --------------- ------------------------ 2.1/5.4 MB 267.6 kB/s eta 0:00:13\n",
      "     --------------- ------------------------ 2.1/5.4 MB 267.6 kB/s eta 0:00:13\n",
      "     --------------- ------------------------ 2.1/5.4 MB 267.6 kB/s eta 0:00:13\n",
      "     ----------------- ---------------------- 2.4/5.4 MB 282.7 kB/s eta 0:00:11\n",
      "     ----------------- ---------------------- 2.4/5.4 MB 282.7 kB/s eta 0:00:11\n",
      "     ----------------- ---------------------- 2.4/5.4 MB 282.7 kB/s eta 0:00:11\n",
      "     ------------------- -------------------- 2.6/5.4 MB 297.9 kB/s eta 0:00:10\n",
      "     ------------------- -------------------- 2.6/5.4 MB 297.9 kB/s eta 0:00:10\n",
      "     --------------------- ------------------ 2.9/5.4 MB 314.1 kB/s eta 0:00:09\n",
      "     --------------------- ------------------ 2.9/5.4 MB 314.1 kB/s eta 0:00:09\n",
      "     ----------------------- ---------------- 3.1/5.4 MB 322.9 kB/s eta 0:00:08\n",
      "     ----------------------- ---------------- 3.1/5.4 MB 322.9 kB/s eta 0:00:08\n",
      "     ----------------------- ---------------- 3.1/5.4 MB 322.9 kB/s eta 0:00:08\n",
      "     ----------------------- ---------------- 3.1/5.4 MB 322.9 kB/s eta 0:00:08\n",
      "     ----------------------- ---------------- 3.1/5.4 MB 322.9 kB/s eta 0:00:08\n",
      "     ----------------------- ---------------- 3.1/5.4 MB 322.9 kB/s eta 0:00:08\n",
      "     ----------------------- ---------------- 3.1/5.4 MB 322.9 kB/s eta 0:00:08\n",
      "     ------------------------- -------------- 3.4/5.4 MB 305.9 kB/s eta 0:00:07\n",
      "     ------------------------- -------------- 3.4/5.4 MB 305.9 kB/s eta 0:00:07\n",
      "     ------------------------- -------------- 3.4/5.4 MB 305.9 kB/s eta 0:00:07\n",
      "     --------------------------- ------------ 3.7/5.4 MB 311.7 kB/s eta 0:00:06\n",
      "     --------------------------- ------------ 3.7/5.4 MB 311.7 kB/s eta 0:00:06\n",
      "     ---------------------------- ----------- 3.9/5.4 MB 320.2 kB/s eta 0:00:05\n",
      "     ---------------------------- ----------- 3.9/5.4 MB 320.2 kB/s eta 0:00:05\n",
      "     ---------------------------- ----------- 3.9/5.4 MB 320.2 kB/s eta 0:00:05\n",
      "     ---------------------------- ----------- 3.9/5.4 MB 320.2 kB/s eta 0:00:05\n",
      "     ---------------------------- ----------- 3.9/5.4 MB 320.2 kB/s eta 0:00:05\n",
      "     ---------------------------- ----------- 3.9/5.4 MB 320.2 kB/s eta 0:00:05\n",
      "     ---------------------------- ----------- 3.9/5.4 MB 320.2 kB/s eta 0:00:05\n",
      "     ---------------------------- ----------- 3.9/5.4 MB 320.2 kB/s eta 0:00:05\n",
      "     ---------------------------- ----------- 3.9/5.4 MB 320.2 kB/s eta 0:00:05\n",
      "     ------------------------------ --------- 4.2/5.4 MB 295.4 kB/s eta 0:00:05\n",
      "     ------------------------------ --------- 4.2/5.4 MB 295.4 kB/s eta 0:00:05\n",
      "     ------------------------------ --------- 4.2/5.4 MB 295.4 kB/s eta 0:00:05\n",
      "     -------------------------------- ------- 4.5/5.4 MB 299.8 kB/s eta 0:00:04\n",
      "     -------------------------------- ------- 4.5/5.4 MB 299.8 kB/s eta 0:00:04\n",
      "     -------------------------------- ------- 4.5/5.4 MB 299.8 kB/s eta 0:00:04\n",
      "     -------------------------------- ------- 4.5/5.4 MB 299.8 kB/s eta 0:00:04\n",
      "     -------------------------------- ------- 4.5/5.4 MB 299.8 kB/s eta 0:00:04\n",
      "     -------------------------------- ------- 4.5/5.4 MB 299.8 kB/s eta 0:00:04\n",
      "     ---------------------------------- ----- 4.7/5.4 MB 296.4 kB/s eta 0:00:03\n",
      "     ---------------------------------- ----- 4.7/5.4 MB 296.4 kB/s eta 0:00:03\n",
      "     ---------------------------------- ----- 4.7/5.4 MB 296.4 kB/s eta 0:00:03\n",
      "     ------------------------------------ --- 5.0/5.4 MB 299.2 kB/s eta 0:00:02\n",
      "     ------------------------------------ --- 5.0/5.4 MB 299.2 kB/s eta 0:00:02\n",
      "     -------------------------------------- - 5.2/5.4 MB 306.8 kB/s eta 0:00:01\n",
      "     -------------------------------------- - 5.2/5.4 MB 306.8 kB/s eta 0:00:01\n",
      "     ---------------------------------------- 5.4/5.4 MB 312.3 kB/s  0:00:17\n",
      "  Installing build dependencies: started\n",
      "  Installing build dependencies: finished with status 'done'\n",
      "  Getting requirements to build wheel: started\n",
      "  Getting requirements to build wheel: finished with status 'done'\n",
      "  Preparing metadata (pyproject.toml): started\n",
      "  Preparing metadata (pyproject.toml): finished with status 'error'\n"
     ]
    },
    {
     "name": "stderr",
     "output_type": "stream",
     "text": [
      "  error: subprocess-exited-with-error\n",
      "  \n",
      "  × Preparing metadata (pyproject.toml) did not run successfully.\n",
      "  │ exit code: 1\n",
      "  ╰─> [28 lines of output]\n",
      "      Running from numpy source directory.\n",
      "      <string>:461: UserWarning: Unrecognized setuptools command, proceeding with generating Cython sources and expanding templates\n",
      "      Traceback (most recent call last):\n",
      "        File \u001b[35m\"C:\\Users\\DR  AJAO\\AppData\\Local\\Programs\\Python\\Python313\\Lib\\site-packages\\pip\\_vendor\\pyproject_hooks\\_in_process\\_in_process.py\"\u001b[0m, line \u001b[35m389\u001b[0m, in \u001b[35m<module>\u001b[0m\n",
      "          \u001b[31mmain\u001b[0m\u001b[1;31m()\u001b[0m\n",
      "          \u001b[31m~~~~\u001b[0m\u001b[1;31m^^\u001b[0m\n",
      "        File \u001b[35m\"C:\\Users\\DR  AJAO\\AppData\\Local\\Programs\\Python\\Python313\\Lib\\site-packages\\pip\\_vendor\\pyproject_hooks\\_in_process\\_in_process.py\"\u001b[0m, line \u001b[35m373\u001b[0m, in \u001b[35mmain\u001b[0m\n",
      "          json_out[\"return_val\"] = \u001b[31mhook\u001b[0m\u001b[1;31m(**hook_input[\"kwargs\"])\u001b[0m\n",
      "                                   \u001b[31m~~~~\u001b[0m\u001b[1;31m^^^^^^^^^^^^^^^^^^^^^^^^\u001b[0m\n",
      "        File \u001b[35m\"C:\\Users\\DR  AJAO\\AppData\\Local\\Programs\\Python\\Python313\\Lib\\site-packages\\pip\\_vendor\\pyproject_hooks\\_in_process\\_in_process.py\"\u001b[0m, line \u001b[35m175\u001b[0m, in \u001b[35mprepare_metadata_for_build_wheel\u001b[0m\n",
      "          return hook(metadata_directory, config_settings)\n",
      "        File \u001b[35m\"C:\\Users\\DR  AJAO\\AppData\\Local\\Temp\\pip-build-env-i8yl3x4u\\overlay\\Lib\\site-packages\\setuptools\\build_meta.py\"\u001b[0m, line \u001b[35m374\u001b[0m, in \u001b[35mprepare_metadata_for_build_wheel\u001b[0m\n",
      "          \u001b[31mself.run_setup\u001b[0m\u001b[1;31m()\u001b[0m\n",
      "          \u001b[31m~~~~~~~~~~~~~~\u001b[0m\u001b[1;31m^^\u001b[0m\n",
      "        File \u001b[35m\"C:\\Users\\DR  AJAO\\AppData\\Local\\Temp\\pip-build-env-i8yl3x4u\\overlay\\Lib\\site-packages\\setuptools\\build_meta.py\"\u001b[0m, line \u001b[35m512\u001b[0m, in \u001b[35mrun_setup\u001b[0m\n",
      "          \u001b[31msuper().run_setup\u001b[0m\u001b[1;31m(setup_script=setup_script)\u001b[0m\n",
      "          \u001b[31m~~~~~~~~~~~~~~~~~\u001b[0m\u001b[1;31m^^^^^^^^^^^^^^^^^^^^^^^^^^^\u001b[0m\n",
      "        File \u001b[35m\"C:\\Users\\DR  AJAO\\AppData\\Local\\Temp\\pip-build-env-i8yl3x4u\\overlay\\Lib\\site-packages\\setuptools\\build_meta.py\"\u001b[0m, line \u001b[35m317\u001b[0m, in \u001b[35mrun_setup\u001b[0m\n",
      "          \u001b[31mexec\u001b[0m\u001b[1;31m(code, locals())\u001b[0m\n",
      "          \u001b[31m~~~~\u001b[0m\u001b[1;31m^^^^^^^^^^^^^^^^\u001b[0m\n",
      "        File \u001b[35m\"<string>\"\u001b[0m, line \u001b[35m488\u001b[0m, in \u001b[35m<module>\u001b[0m\n",
      "        File \u001b[35m\"<string>\"\u001b[0m, line \u001b[35m465\u001b[0m, in \u001b[35msetup_package\u001b[0m\n",
      "        File \u001b[35m\"C:\\Users\\DR  AJAO\\AppData\\Local\\Temp\\pip-install-369p4p0y\\numpy_5fa025c94c464379b5fee9d477002266\\numpy\\distutils\\__init__.py\"\u001b[0m, line \u001b[35m26\u001b[0m, in \u001b[35m<module>\u001b[0m\n",
      "          from . import ccompiler\n",
      "        File \u001b[35m\"C:\\Users\\DR  AJAO\\AppData\\Local\\Temp\\pip-install-369p4p0y\\numpy_5fa025c94c464379b5fee9d477002266\\numpy\\distutils\\ccompiler.py\"\u001b[0m, line \u001b[35m111\u001b[0m, in \u001b[35m<module>\u001b[0m\n",
      "          replace_method(\u001b[1;31mCCompiler\u001b[0m, 'find_executables', CCompiler_find_executables)\n",
      "                         \u001b[1;31m^^^^^^^^^\u001b[0m\n",
      "      \u001b[1;35mNameError\u001b[0m: \u001b[35mname 'CCompiler' is not defined. Did you mean: 'ccompiler'?\u001b[0m\n",
      "      [end of output]\n",
      "  \n",
      "  note: This error originates from a subprocess, and is likely not a problem with pip.\n",
      "error: metadata-generation-failed\n",
      "\n",
      "× Encountered error while generating package metadata.\n",
      "╰─> See above for output.\n",
      "\n",
      "note: This is an issue with the package mentioned above, not pip.\n",
      "hint: See above for details.\n"
     ]
    }
   ],
   "source": [
    "!pip install numpy.linalg"
   ]
  },
  {
   "cell_type": "markdown",
   "id": "36f6e223",
   "metadata": {},
   "source": [
    "This code imports three essential linear algebra functions from the `numpy.linalg` module: `inv` (for inverse), `det` (for determinant), and `eig` (for eigenvalues and eigenvectors). It operates on a 2x2 matrix defined as `matrix = np.array([[1, 2], [3, 4]])`.\n",
    "\n",
    "#### 1. **Determinant of the Matrix (`det`)**\n",
    "\n",
    "The determinant is a scalar value that can be computed from a square matrix. It provides important properties of the matrix, such as whether it is invertible (a non-zero determinant implies that the matrix is invertible).\n",
    "\n",
    "In the code:\n",
    "```python\n",
    "print(det(matrix))\n",
    "```\n",
    "\n",
    "The determinant of the matrix:\n",
    "\n",
    "$$\\text{matrix} = \\begin{bmatrix} 1 & 2 \\\\ 3 & 4 \\end{bmatrix}$$\n",
    "\n",
    "is calculated as:\n",
    "\n",
    "$$\\text{det(matrix)} = (1 \\times 4) - (2 \\times 3) = 4 - 6 = -2$$\n",
    "\n",
    "\n",
    "So, the determinant of the matrix is `-2`.\n",
    "\n",
    "#### 2. **Inverse of the Matrix (`inv`)**\n",
    "\n",
    "The inverse of a matrix \\( A \\) is a matrix \\( A^{-1} \\) such that:\n",
    "\n",
    "$$A \\times A^{-1} = I$$\n",
    "\n",
    "where `(I)` is the identity matrix.\n",
    "\n",
    "In the code:\n",
    "```python\n",
    "print(inv(matrix))\n",
    "```\n",
    "\n",
    "For the matrix:\n",
    "$$\\text{matrix} = \\begin{bmatrix} 1 & 2 \\\\ 3 & 4 \\end{bmatrix}$$\n",
    "\n",
    "its inverse (if the matrix is invertible, i.e., has a non-zero determinant) is calculated using the formula:\n",
    "\n",
    "$$A^{-1} = \\frac{1}{\\text{det}(A)} \\times \\text{adj}(A)$$\n",
    "\n",
    "where the adjoint or adjugate is found by swapping elements of the diagonal and negating off-diagonal elements.\n",
    "\n",
    "So, for this matrix, the inverse is:\n",
    "\n",
    "$$A^{-1} = \\frac{1}{-2} \\times \\begin{bmatrix} 4 & -2 \\\\ -3 & 1 \\end{bmatrix} = \\begin{bmatrix} -2 & 1 \\\\ 1.5 & -0.5 \\end{bmatrix}$$\n",
    "\n",
    "\n",
    "Output:\n",
    "```\n",
    "[[-2.   1. ]\n",
    " [ 1.5 -0.5]]\n",
    "```\n",
    "\n",
    "#### 3. **Eigenvalues and Eigenvectors (`eig`)**\n",
    "\n",
    "Eigenvalues and eigenvectors are properties of a square matrix that help to understand linear transformations. Eigenvalues are scalars associated with a matrix, and eigenvectors are the vectors that do not change direction when the matrix is applied to them, only their magnitude is scaled by the corresponding eigenvalue.\n",
    "\n",
    "In the code:\n",
    "```python\n",
    "print(eig(matrix))\n",
    "```\n",
    "\n",
    "The `eig(matrix)` function returns two values:\n",
    "- The first array contains the **eigenvalues**.\n",
    "- The second array contains the **eigenvectors**.\n",
    "\n",
    "For the matrix:\n",
    "\n",
    "$$\\text{matrix} = \\begin{bmatrix} 1 & 2 \\\\ 3 & 4 \\end{bmatrix}$$\n",
    "\n",
    "\n",
    "The eigenvalues and eigenvectors are calculated as:\n",
    "```python\n",
    "eigenvalues, eigenvectors = eig(matrix)\n",
    "```\n",
    "\n",
    "Output might look like:\n",
    "```\n",
    "Eigenvalues: [5.37228132 -0.37228132]\n",
    "Eigenvectors: [[ 0.41597356 -0.82456484]\n",
    "               [ 0.90937671  0.56576746]]\n",
    "```\n",
    "\n",
    "- **Eigenvalues**: `[5.37, -0.37]`\n",
    "- **Eigenvectors**:\n",
    "    \n",
    "   $$ \\begin{bmatrix} 0.415 & -0.824 \\\\ 0.909 & 0.566 \\end{bmatrix}$$\n",
    "   \n",
    "\n",
    "#### Summary:\n",
    "\n",
    "- **`det(matrix)`** computes the determinant of the matrix. If the determinant is non-zero, the matrix is invertible.\n",
    "\n",
    "- **`inv(matrix)`** computes the inverse of the matrix. The inverse exists only if the determinant is non-zero.\n",
    "\n",
    "- **`eig(matrix)`** computes the eigenvalues and eigenvectors of the matrix, which describe its transformation properties in linear algebra.\n",
    "\n"
   ]
  },
  {
   "cell_type": "markdown",
   "id": "bb2630b1",
   "metadata": {},
   "source": [
    "#### Random Numbers with NumPy\n",
    "NumPy has a submodule np.random for generating random numbers, useful for simulations and testing machine learning models.\n"
   ]
  },
  {
   "cell_type": "code",
   "execution_count": 24,
   "id": "60e656f8",
   "metadata": {},
   "outputs": [
    {
     "name": "stdout",
     "output_type": "stream",
     "text": [
      "[0.96379055 0.07470849 0.609092   0.60622626 0.77106214]\n",
      "[[5 1 9]\n",
      " [8 5 9]\n",
      " [3 8 1]]\n",
      "[0.37454012 0.95071431 0.73199394]\n"
     ]
    }
   ],
   "source": [
    "# Generate an array of random numbers\n",
    "random_numbers = np.random.rand(5)\n",
    "print(random_numbers)\n",
    "\n",
    "# Generate a 2D array of random integers between 1 and 10\n",
    "random_integers = np.random.randint(1, 10, (3, 3))\n",
    "print(random_integers)\n",
    "\n",
    "# Set a seed for reproducibility\n",
    "np.random.seed(42)\n",
    "print(np.random.rand(3))  # Same result each time\n"
   ]
  },
  {
   "cell_type": "markdown",
   "id": "2f76af14",
   "metadata": {},
   "source": [
    "##### Conclusion\n",
    "NumPy is the backbone of numerical computation in Python and plays a crucial role in data science and machine learning. Its ability to handle arrays, perform mathematical operations, and interact with other libraries makes it indispensable for data scientists. Understanding NumPy is essential for mastering data manipulation and performing efficient numerical computations in your data science journey.\n"
   ]
  }
 ],
 "metadata": {
  "kernelspec": {
   "display_name": "Python 3",
   "language": "python",
   "name": "python3"
  },
  "language_info": {
   "codemirror_mode": {
    "name": "ipython",
    "version": 3
   },
   "file_extension": ".py",
   "mimetype": "text/x-python",
   "name": "python",
   "nbconvert_exporter": "python",
   "pygments_lexer": "ipython3",
   "version": "3.13.7"
  }
 },
 "nbformat": 4,
 "nbformat_minor": 5
}
