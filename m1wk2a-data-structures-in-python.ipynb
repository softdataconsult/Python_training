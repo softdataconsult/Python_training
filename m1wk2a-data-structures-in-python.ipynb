{
 "cells": [
  {
   "cell_type": "markdown",
   "id": "bfeaddc3",
   "metadata": {},
   "source": [
    "# **Data Structures in Python**\n",
    "\n",
    "In Python, data structures are containers used to store and organize data. Python provides several built-in data structures that allow efficient management and manipulation of data, including **lists**, **tuples**, **dictionaries**, and **sets**. Each of these data structures has its specific use cases and properties.\n",
    "\n",
    "#### 1. **Lists**\n",
    "Lists are one of the most commonly used data structures in Python. They are **ordered**, **mutable** (changeable), and allow duplicate elements. Lists can store elements of any type, including integers, floats, strings, and even other lists."
   ]
  },
  {
   "cell_type": "markdown",
   "id": "f221d31f",
   "metadata": {},
   "source": [
    "##### Creating Lists\n",
    "You can create a list using square brackets `[]` or the `list()` function:"
   ]
  },
  {
   "cell_type": "code",
   "execution_count": 2,
   "id": "f785f011",
   "metadata": {},
   "outputs": [
    {
     "name": "stdout",
     "output_type": "stream",
     "text": [
      "[1, 2, 3, 4]\n"
     ]
    }
   ],
   "source": [
    "# List of integers\n",
    "numbers = [1, 2, 3, 4]\n",
    "print(numbers)\n",
    "\n",
    "letters = ['a', 'b', 'c']\n",
    "\n",
    "# List of mixed types\n",
    "mixed_list = [1, 'apple', 3.14, True]\n",
    "\n",
    "# Empty list\n",
    "empty_list = []\n",
    "\n",
    "# Using the list() function\n",
    "another_list = list((5, 6, 7))  # Passing a tuple to the list function"
   ]
  },
  {
   "cell_type": "markdown",
   "id": "fe374d98",
   "metadata": {},
   "source": [
    "##### Accessing Elements\n",
    "You can access list elements using **indexing** and **slicing**:"
   ]
  },
  {
   "cell_type": "code",
   "execution_count": 3,
   "id": "2e90d6bc",
   "metadata": {},
   "outputs": [
    {
     "name": "stdout",
     "output_type": "stream",
     "text": [
      "1\n",
      "True\n",
      "[2, 3]\n",
      "4\n"
     ]
    }
   ],
   "source": [
    "# Accessing individual elements\n",
    "print(numbers[0])  # Output: 1\n",
    "print(mixed_list[3])  # Output: 'apple'\n",
    "\n",
    "# Slicing\n",
    "print(numbers[1:3])  # Output: [2, 3] (elements from index 1 to 2)\n",
    "print(numbers[-1])  # Output: 4 (last element)"
   ]
  },
  {
   "cell_type": "markdown",
   "id": "b9d42dff",
   "metadata": {},
   "source": [
    "##### Modifying Lists\n",
    "Lists are mutable, so you can change, add, or remove elements:"
   ]
  },
  {
   "cell_type": "code",
   "execution_count": 4,
   "id": "34b033d8",
   "metadata": {},
   "outputs": [
    {
     "name": "stdout",
     "output_type": "stream",
     "text": [
      "[1, 10, 3, 4]\n",
      "[1, 15, 10, 3, 4, 5]\n",
      "[1, 15, 3, 4, 5]\n",
      "5\n",
      "[1, 15, 3, 4]\n"
     ]
    }
   ],
   "source": [
    "# Changing an element\n",
    "numbers[1] = 10\n",
    "print(numbers)  # Output: [1, 10, 3, 4]\n",
    "\n",
    "# Adding elements\n",
    "numbers.append(5)  # Add at the end\n",
    "numbers.insert(1, 15)  # Insert at index 1\n",
    "print(numbers)  # Output: [1, 15, 10, 3, 4, 5]\n",
    "\n",
    "# Removing elements\n",
    "numbers.remove(10)  # Remove the first occurrence of 10\n",
    "print(numbers)  # Output: [1, 15, 3, 4, 5]\n",
    "\n",
    "# Using pop() to remove and return the last element\n",
    "last_item = numbers.pop()\n",
    "print(last_item)  # Output: 5\n",
    "print(numbers)  # Output: [1, 15, 3, 4]"
   ]
  },
  {
   "cell_type": "markdown",
   "id": "c05d01d7",
   "metadata": {},
   "source": [
    "#### 2. **Tuples**\n",
    "Tuples are similar to lists, but they are **immutable**, meaning once a tuple is created, its elements cannot be changed. Tuples are used when you want to store data that should not be modified.\n"
   ]
  },
  {
   "cell_type": "markdown",
   "id": "546e281d",
   "metadata": {},
   "source": [
    "##### Creating Tuples\n",
    "You can create a tuple using parentheses `()` or the `tuple()` function:"
   ]
  },
  {
   "cell_type": "code",
   "execution_count": 5,
   "id": "4a524471",
   "metadata": {},
   "outputs": [],
   "source": [
    "# Tuple of integers\n",
    "numbers = (1, 2, 3)\n",
    "\n",
    "# Tuple of mixed types\n",
    "mixed_tuple = (1, 'apple', 3.14, True)\n",
    "\n",
    "# Single-element tuple (notice the comma)\n",
    "single_element_tuple = (5,)\n",
    "\n",
    "# Using the tuple() function\n",
    "another_tuple = tuple([4, 5, 6])  # Passing a list to the tuple function"
   ]
  },
  {
   "cell_type": "markdown",
   "id": "e1102c2f",
   "metadata": {},
   "source": [
    "##### Accessing Elements\n",
    "You can access elements in a tuple using indexing and slicing, similar to lists:"
   ]
  },
  {
   "cell_type": "code",
   "execution_count": 6,
   "id": "8f06c096",
   "metadata": {},
   "outputs": [
    {
     "name": "stdout",
     "output_type": "stream",
     "text": [
      "1\n",
      "(2, 3)\n"
     ]
    }
   ],
   "source": [
    "print(numbers[0])  # Output: 1\n",
    "print(numbers[1:3])  # Output: (2, 3)"
   ]
  },
  {
   "cell_type": "markdown",
   "id": "f9cb7733",
   "metadata": {},
   "source": [
    "##### Tuples are Immutable\n",
    "Tuples cannot be modified after creation. This means you cannot add, remove, or change elements in a tuple.\n",
    "\n",
    "##### Use Case of Tuples\n",
    "Tuples are often used for data that should remain constant throughout the program, such as coordinates (x, y), or when returning multiple values from a function.\n"
   ]
  },
  {
   "cell_type": "markdown",
   "id": "780d974c",
   "metadata": {},
   "source": [
    "#### 3. **Dictionaries**\n",
    "Dictionaries are **unordered**, **mutable** collections of key-value pairs. They allow you to map a key to a value, which makes them ideal for cases where you want to associate data (e.g., mapping student names to their scores).\n",
    "\n",
    "##### Creating Dictionaries\n",
    "You can create a dictionary using curly braces `{}` or the `dict()` function:"
   ]
  },
  {
   "cell_type": "code",
   "execution_count": 7,
   "id": "7c76edf2",
   "metadata": {},
   "outputs": [
    {
     "name": "stdout",
     "output_type": "stream",
     "text": [
      "{'name': 'John', 'age': 25, 'city': 'Port Harcout'}\n"
     ]
    }
   ],
   "source": [
    "# Creating a dictionary\n",
    "student_scores = {'Ayo': 90, 'Ola': 85, 'Kunle': 95}\n",
    "\n",
    "# Empty dictionary\n",
    "empty_dict = {}\n",
    "\n",
    "# Using the dict() function\n",
    "person = dict(name='John', age=25, city='Port Harcout')\n",
    "print(person)  # Output: {'name': 'John', 'age': 25, 'city': 'Port Harcout'}"
   ]
  },
  {
   "cell_type": "markdown",
   "id": "441e019c",
   "metadata": {},
   "source": [
    "##### Accessing and Modifying Dictionary Elements\n",
    "You can access and modify values by referring to the key:"
   ]
  },
  {
   "cell_type": "code",
   "execution_count": 8,
   "id": "7cfd5ace",
   "metadata": {},
   "outputs": [
    {
     "name": "stdout",
     "output_type": "stream",
     "text": [
      "90\n",
      "{'Ayo': 95, 'Ola': 85, 'Kunle': 95, 'David': 88}\n",
      "{'Ola': 85, 'Kunle': 95, 'David': 88}\n"
     ]
    }
   ],
   "source": [
    "# Accessing values\n",
    "print(student_scores['Ayo'])  # Output: 90\n",
    "\n",
    "# Adding or modifying values\n",
    "student_scores['David'] = 88  # Add a new key-value pair\n",
    "student_scores['Ayo'] = 95  # Modify an existing value\n",
    "print(student_scores)  # Output: {'Ayo': 95, 'Ola': 85, 'Kunle': 95, 'David': 88}\n",
    "\n",
    "# Removing a key-value pair\n",
    "del student_scores['Ayo']\n",
    "print(student_scores)  # Output: {'Ola': 85, 'Kunle': 95, 'David': 88}"
   ]
  },
  {
   "cell_type": "markdown",
   "id": "7d094157",
   "metadata": {},
   "source": [
    "##### Useful Dictionary Methods\n",
    "- **`keys()`**: Returns all the keys in the dictionary.\n",
    "- **`values()`**: Returns all the values in the dictionary.\n",
    "- **`items()`**: Returns a list of tuples containing key-value pairs.\n",
    "- **`get()`**: Returns the value for a specified key (avoids KeyError if the key doesn’t exist).\n"
   ]
  },
  {
   "cell_type": "code",
   "execution_count": 9,
   "id": "b2b04bc8",
   "metadata": {},
   "outputs": [
    {
     "name": "stdout",
     "output_type": "stream",
     "text": [
      "dict_keys(['Ola', 'Kunle', 'David'])\n",
      "dict_values([85, 95, 88])\n",
      "dict_items([('Ola', 85), ('Kunle', 95), ('David', 88)])\n",
      "not available\n"
     ]
    }
   ],
   "source": [
    "# Dictionary methods\n",
    "print(student_scores.keys())  # Output: dict_keys(['Ola', 'Kunle', 'David'])\n",
    "print(student_scores.values())  # Output: dict_values([85, 95, 88])\n",
    "print(student_scores.items())  # dict_items([('Ola', 85), ('Kunle', 95), ('David', 88)])\n",
    "\n",
    "# Using get() to avoid KeyError\n",
    "print(student_scores.get('James', 'not available'))  # Output: Not Found"
   ]
  },
  {
   "cell_type": "markdown",
   "id": "bbc6ddc7",
   "metadata": {},
   "source": [
    "#### 4. **Sets**\n",
    "A set is an **unordered**, **mutable** collection of **unique** elements. Sets are useful when you want to store a collection of distinct items.\n",
    "\n",
    "##### Creating Sets\n",
    "You can create a set using curly braces `{}` or the `set()` function:"
   ]
  },
  {
   "cell_type": "code",
   "execution_count": 10,
   "id": "8fd61013",
   "metadata": {},
   "outputs": [
    {
     "name": "stdout",
     "output_type": "stream",
     "text": [
      "{1, 2, 3, 4, 6, 8}\n",
      "{'David', 'Bola', 'Silver', 'Gold'}\n"
     ]
    }
   ],
   "source": [
    "# Creating a set\n",
    "fruits = {'apple', 'banana', 'mango'}\n",
    "\n",
    "# Empty set\n",
    "empty_set = set()  # Cannot use empty {} as it creates a dictionary\n",
    "\n",
    "# Using the set() function\n",
    "numbers = set([3, 2, 6, 8, 3, 8, 4, 1])  # Duplicates are removed\n",
    "print(numbers)  # Output: {1, 2, 3, 4, 6, 8}\n",
    "\n",
    "names = set(['Bola', 'David', 'Gold', 'Silver', 'Silver'])  # Duplicates are removed\n",
    "print(names)  # Output: {1, 2, 3}"
   ]
  },
  {
   "cell_type": "markdown",
   "id": "0d8559e3",
   "metadata": {},
   "source": [
    "#### Adding and Removing Elements\n",
    "You can add or remove elements from a set:"
   ]
  },
  {
   "cell_type": "code",
   "execution_count": 11,
   "id": "7c3555f1",
   "metadata": {},
   "outputs": [
    {
     "name": "stdout",
     "output_type": "stream",
     "text": [
      "{'banana', 'orange', 'mango', 'apple'}\n",
      "{'orange', 'mango', 'apple'}\n"
     ]
    }
   ],
   "source": [
    "# Adding elements\n",
    "fruits.add('orange')\n",
    "print(fruits)  # Output: {'apple', 'banana', 'mango', 'orange'}\n",
    "\n",
    "# Removing elements\n",
    "fruits.remove('banana')\n",
    "print(fruits)  # Output: {'apple', 'mango', 'orange'}\n"
   ]
  },
  {
   "cell_type": "markdown",
   "id": "035c90d4",
   "metadata": {},
   "source": [
    "##### Set Operations\n",
    "Sets allow you to perform mathematical set operations like union, intersection, and difference:"
   ]
  },
  {
   "cell_type": "code",
   "execution_count": 12,
   "id": "41a818ae",
   "metadata": {},
   "outputs": [
    {
     "name": "stdout",
     "output_type": "stream",
     "text": [
      "{1, 2, 3, 4, 5, 6}\n",
      "{3, 4}\n",
      "{1, 2}\n"
     ]
    }
   ],
   "source": [
    "set_a = {1, 2, 3, 4}\n",
    "set_b = {3, 4, 5, 6}\n",
    "\n",
    "# Union (elements in either set)\n",
    "print(set_a | set_b)  # Output: {1, 2, 3, 4, 5, 6}\n",
    "\n",
    "# Intersection (elements in both sets)\n",
    "print(set_a & set_b)  # Output: {3, 4}\n",
    "\n",
    "# Difference (elements in set_a but not in set_b)\n",
    "print(set_a - set_b)  # Output: {1, 2}"
   ]
  },
  {
   "cell_type": "markdown",
   "id": "d32b000c",
   "metadata": {},
   "source": [
    "### List Comprehensions\n",
    "\n",
    "List comprehensions provide a concise way to create lists by transforming or filtering elements from an existing list or iterable.\n",
    "\n",
    "##### Basic Syntax"
   ]
  },
  {
   "cell_type": "code",
   "execution_count": 13,
   "id": "b3683db3",
   "metadata": {},
   "outputs": [
    {
     "name": "stdout",
     "output_type": "stream",
     "text": [
      "[1, 4, 9, 16, 25]\n",
      "[0, 2, 4, 6, 8]\n"
     ]
    }
   ],
   "source": [
    "# Syntax: [expression for item in iterable if condition]\n",
    "\n",
    "# Example: Create a list of squares of numbers from 1 to 5\n",
    "squares = [x**2 for x in range(1, 6)]\n",
    "print(squares)  # Output: [1, 4, 9, 16, 25]\n",
    "\n",
    "# Example: Filter and keep only even numbers\n",
    "even_numbers = [x for x in range(10) if x % 2 == 0]\n",
    "print(even_numbers)  # Output: [0, 2, 4, 6, 8]"
   ]
  },
  {
   "cell_type": "markdown",
   "id": "596b36da",
   "metadata": {},
   "source": [
    "##### Nested List Comprehensions\n",
    "You can use nested loops in list comprehensions to create complex lists."
   ]
  },
  {
   "cell_type": "code",
   "execution_count": 14,
   "id": "f190c30d",
   "metadata": {},
   "outputs": [
    {
     "name": "stdout",
     "output_type": "stream",
     "text": [
      "[1, 2, 3, 4, 5, 6, 7, 8, 9]\n"
     ]
    }
   ],
   "source": [
    "# Example: Flatten a matrix into a single list\n",
    "matrix = [[1, 2, 3], [4, 5, 6], [7, 8, 9]]\n",
    "flattened = [num for row in matrix for num in row]\n",
    "print(flattened)  # Output: [1, 2, 3, 4, 5, 6, 7, 8, 9]"
   ]
  },
  {
   "cell_type": "code",
   "execution_count": 15,
   "id": "13cdc3bf",
   "metadata": {},
   "outputs": [
    {
     "data": {
      "text/plain": [
       "[[1, 2, 3], [4, 5, 6], [7, 8, 9]]"
      ]
     },
     "execution_count": 15,
     "metadata": {},
     "output_type": "execute_result"
    }
   ],
   "source": [
    "matrix \n"
   ]
  },
  {
   "cell_type": "markdown",
   "id": "5b64b7a9",
   "metadata": {},
   "source": [
    "### Summary\n",
    "\n",
    "- **Lists** are ordered, mutable collections that allow duplicates.\n",
    "- **Tuples** are ordered and immutable collections.\n",
    "- **Dictionaries** store data as key-value pairs and are mutable.\n",
    "- **Sets** are unordered collections of unique elements.\n",
    "- **List comprehensions** offer a compact way"
   ]
  }
 ],
 "metadata": {
  "kernelspec": {
   "display_name": "Python 3",
   "language": "python",
   "name": "python3"
  },
  "language_info": {
   "codemirror_mode": {
    "name": "ipython",
    "version": 3
   },
   "file_extension": ".py",
   "mimetype": "text/x-python",
   "name": "python",
   "nbconvert_exporter": "python",
   "pygments_lexer": "ipython3",
   "version": "3.13.7"
  }
 },
 "nbformat": 4,
 "nbformat_minor": 5
}
