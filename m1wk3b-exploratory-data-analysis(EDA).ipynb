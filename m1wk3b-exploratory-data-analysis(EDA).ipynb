{
 "cells": [
  {
   "cell_type": "markdown",
   "id": "aa2725ed",
   "metadata": {},
   "source": [
    "### Exploratory Data Analysis (EDA)\n",
    "\n",
    "Exploratory Data Analysis (EDA) is a crucial step in the data analysis process, where the main goal is to summarize the main characteristics of a dataset, often visually. It helps in understanding the structure of data, uncovering patterns, spotting anomalies, testing hypotheses, and checking assumptions. EDA typically involves descriptive statistics and data visualization, allowing analysts to make sense of the data before applying more complex analyses.\n",
    "\n",
    "In this note, we will cover two important aspects of EDA:\n",
    "1. **Descriptive Statistics**\n",
    "2. **Data Visualization with Matplotlib**\n",
    "---\n"
   ]
  },
  {
   "cell_type": "markdown",
   "id": "186529f4",
   "metadata": {},
   "source": [
    "### 1. **Descriptive Statistics**\n",
    "\n",
    "Descriptive statistics summarize and organize the characteristics of a dataset in a meaningful way. These statistics include measures of central tendency, measures of dispersion, and frequency distribution. Below are the key descriptive statistics typically used in EDA.\n",
    "\n",
    "#### a) **Measures of Central Tendency**\n",
    "These measures help describe the center of the dataset or the average values:\n",
    "\n",
    "- **Mean**: The sum of all values divided by the number of values."
   ]
  },
  {
   "cell_type": "code",
   "execution_count": 14,
   "id": "b3a55e64",
   "metadata": {},
   "outputs": [
    {
     "ename": "IndentationError",
     "evalue": "unexpected indent (2340158648.py, line 2)",
     "output_type": "error",
     "traceback": [
      "  \u001b[36mCell\u001b[39m\u001b[36m \u001b[39m\u001b[32mIn[14]\u001b[39m\u001b[32m, line 2\u001b[39m\n\u001b[31m    \u001b[39m\u001b[31mimport pandas as pd\u001b[39m\n    ^\n\u001b[31mIndentationError\u001b[39m\u001b[31m:\u001b[39m unexpected indent\n"
     ]
    }
   ],
   "source": [
    " # Calculate mean\n",
    "  import pandas as pd\n",
    "  mean_value = df['column_name'].mean()\n",
    "  print(f\"Mean: {mean_value}\")"
   ]
  },
  {
   "cell_type": "markdown",
   "id": "04a71c82",
   "metadata": {},
   "source": [
    "- **Median**: The middle value in a dataset when sorted in ascending or descending order."
   ]
  },
  {
   "cell_type": "code",
   "execution_count": 15,
   "id": "4cf65374",
   "metadata": {},
   "outputs": [
    {
     "ename": "IndentationError",
     "evalue": "unexpected indent (2222002451.py, line 2)",
     "output_type": "error",
     "traceback": [
      "  \u001b[36mCell\u001b[39m\u001b[36m \u001b[39m\u001b[32mIn[15]\u001b[39m\u001b[32m, line 2\u001b[39m\n\u001b[31m    \u001b[39m\u001b[31mmedian_value = df['column_name'].median()\u001b[39m\n    ^\n\u001b[31mIndentationError\u001b[39m\u001b[31m:\u001b[39m unexpected indent\n"
     ]
    }
   ],
   "source": [
    " # Calculate median\n",
    "  median_value = df['column_name'].median()\n",
    "  print(f\"Median: {median_value}\")"
   ]
  },
  {
   "cell_type": "markdown",
   "id": "2a93ec79",
   "metadata": {},
   "source": [
    "- **Mode**: The most frequent value in the dataset."
   ]
  },
  {
   "cell_type": "code",
   "execution_count": null,
   "id": "74f29008",
   "metadata": {},
   "outputs": [],
   "source": [
    " # Calculate mode\n",
    "  mode_value = df['column_name'].mode()[0]\n",
    "  print(f\"Mode: {mode_value}\")"
   ]
  },
  {
   "cell_type": "markdown",
   "id": "097d0be9",
   "metadata": {},
   "source": [
    "#### b) **Measures of Dispersion (Variability)**\n",
    "These measures describe the spread or variability of the data:\n",
    "\n",
    "- **Variance**: Measures how far the values in the dataset are from the mean."
   ]
  },
  {
   "cell_type": "code",
   "execution_count": null,
   "id": "9c38c30c",
   "metadata": {},
   "outputs": [],
   "source": [
    " # Calculate variance\n",
    "  variance_value = df['column_name'].var()\n",
    "  print(f\"Variance: {variance_value}\")"
   ]
  },
  {
   "cell_type": "markdown",
   "id": "1c2f33c1",
   "metadata": {},
   "source": [
    "- **Standard Deviation**: The square root of the variance. It tells you how much the data deviates from the mean."
   ]
  },
  {
   "cell_type": "code",
   "execution_count": null,
   "id": "192cd231",
   "metadata": {},
   "outputs": [],
   "source": [
    "# Calculate standard deviation\n",
    "std_value = df['column_name'].std()\n",
    "  print(f\"Standard Deviation: {std_value}\")"
   ]
  },
  {
   "cell_type": "markdown",
   "id": "48ec0c4e",
   "metadata": {},
   "source": [
    "- **Range**: The difference between the maximum and minimum values."
   ]
  },
  {
   "cell_type": "code",
   "execution_count": null,
   "id": "2abefce9",
   "metadata": {},
   "outputs": [],
   "source": [
    " # Calculate range\n",
    "  range_value = df['column_name'].max() - df['column_name'].min()\n",
    "  print(f\"Range: {range_value}\")"
   ]
  },
  {
   "cell_type": "markdown",
   "id": "e345a45b",
   "metadata": {},
   "source": [
    "- **Interquartile Range (IQR)**: The range between the first quartile (25th percentile) and the third quartile (75th percentile)."
   ]
  },
  {
   "cell_type": "code",
   "execution_count": null,
   "id": "9362f262",
   "metadata": {},
   "outputs": [],
   "source": [
    " # Calculate interquartile range\n",
    "  Q1 = df['column_name'].quantile(0.25)\n",
    "  Q3 = df['column_name'].quantile(0.75)\n",
    "  IQR = Q3 - Q1\n",
    "  print(f\"IQR: {IQR}\")"
   ]
  },
  {
   "cell_type": "code",
   "execution_count": null,
   "id": "7e39e6a8",
   "metadata": {},
   "outputs": [],
   "source": [
    "#calculate semi-interquartile range\n",
    "SIQR = IQR/2"
   ]
  },
  {
   "cell_type": "markdown",
   "id": "31af95d2",
   "metadata": {},
   "source": [
    "#### c) **Frequency Distribution**\n",
    "This shows how often different values or ranges of values occur in the dataset.\n",
    "\n",
    "- **Value Counts**: Displays the frequency of unique values in a column."
   ]
  },
  {
   "cell_type": "code",
   "execution_count": null,
   "id": "964eaa30",
   "metadata": {},
   "outputs": [],
   "source": [
    " # Calculate frequency of unique values\n",
    "  freq_dist = df['column_name'].value_counts()\n",
    "  print(freq_dist)"
   ]
  },
  {
   "cell_type": "markdown",
   "id": "73eee44e",
   "metadata": {},
   "source": [
    "- **Histogram**: Visual representation of the frequency distribution (see next section)."
   ]
  },
  {
   "cell_type": "markdown",
   "id": "db163ac2",
   "metadata": {},
   "source": [
    "### 2. **Data Visualization with Matplotlib**\n",
    "\n",
    "Data visualization is an integral part of EDA. It helps in understanding the underlying structure of data, identifying patterns, and communicating insights visually. Matplotlib is a widely used Python library for creating static, animated, and interactive visualizations.\n",
    "\n",
    "#### a) **Introduction to Matplotlib**\n",
    "Matplotlib is a powerful and flexible library used to create 2D charts and plots. Its interface is simple, allowing users to create a wide variety of plots such as line plots, bar plots, histograms, scatter plots, and more.\n"
   ]
  },
  {
   "cell_type": "code",
   "execution_count": null,
   "id": "9795e218",
   "metadata": {},
   "outputs": [],
   "source": [
    "import matplotlib.pyplot as plt"
   ]
  },
  {
   "cell_type": "markdown",
   "id": "e2653fd3",
   "metadata": {},
   "source": [
    "#### b) **Types of Plots in EDA with Matplotlib**\n",
    "\n",
    "##### i) **Line Plot**\n",
    "A line plot is used to visualize data points in a time series or continuous data.\n"
   ]
  },
  {
   "cell_type": "code",
   "execution_count": null,
   "id": "30c30853",
   "metadata": {},
   "outputs": [],
   "source": [
    "# Line plot\n",
    "plt.plot(df['column_name'])\n",
    "plt.title('Line Plot')\n",
    "plt.xlabel('X-axis label')\n",
    "plt.ylabel('Y-axis label')\n",
    "plt.show()"
   ]
  },
  {
   "cell_type": "markdown",
   "id": "df5991f4",
   "metadata": {},
   "source": [
    "##### ii) **Bar Plot**\n",
    "A bar plot is used to compare the frequency or value of different categories.\n"
   ]
  },
  {
   "cell_type": "code",
   "execution_count": null,
   "id": "31f357a8",
   "metadata": {},
   "outputs": [],
   "source": [
    "# Bar plot\n",
    "plt.bar(df['category_column'], df['value_column'])\n",
    "plt.title('Bar Plot')\n",
    "plt.xlabel('Categories')\n",
    "plt.ylabel('Values')\n",
    "plt.show()"
   ]
  },
  {
   "cell_type": "markdown",
   "id": "86220817",
   "metadata": {},
   "source": [
    "##### iii) **Histogram**\n",
    "A histogram shows the distribution of a single numerical variable. It splits the data into bins and displays the frequency of values in each bin.\n"
   ]
  },
  {
   "cell_type": "code",
   "execution_count": null,
   "id": "7cf9fc8e",
   "metadata": {},
   "outputs": [],
   "source": [
    "# Histogram\n",
    "plt.hist(df['numeric_column'], bins=10, color = 'blue,'edgecolor='black')\n",
    "plt.title('Histogram')\n",
    "plt.xlabel('Value')\n",
    "plt.ylabel('Frequency')\n",
    "plt.show()"
   ]
  },
  {
   "cell_type": "markdown",
   "id": "171a466b",
   "metadata": {},
   "source": [
    "##### iv) **Box Plot**\n",
    "A box plot (or whisker plot) displays the distribution of data based on a five-number summary: minimum, first quartile (Q1), median, third quartile (Q3), and maximum. It helps in detecting outliers."
   ]
  },
  {
   "cell_type": "code",
   "execution_count": null,
   "id": "a8570e81",
   "metadata": {},
   "outputs": [],
   "source": [
    "plt.boxplot(df['numeric_column'])\n",
    "plt.title('Box Plot')\n",
    "plt.ylabel('Values')\n",
    "plt.show()"
   ]
  },
  {
   "cell_type": "markdown",
   "id": "4182e946",
   "metadata": {},
   "source": [
    "##### v) **Scatter Plot**\n",
    "A scatter plot shows the relationship between two numerical variables. It helps in identifying correlations or patterns between the variables."
   ]
  },
  {
   "cell_type": "code",
   "execution_count": null,
   "id": "09dc8028",
   "metadata": {},
   "outputs": [],
   "source": [
    "# Scatter plot\n",
    "x = df['column_x']\n",
    "y = df['column_y']\n",
    "plt.scatter(x, y)\n",
    "plt.title('Scatter Plot')\n",
    "plt.xlabel('X-axis label')\n",
    "plt.ylabel('Y-axis label')\n",
    "plt.show()"
   ]
  },
  {
   "cell_type": "markdown",
   "id": "5d49392d",
   "metadata": {},
   "source": [
    "##### vi) **Pie Chart**\n",
    "A pie chart is useful for displaying the proportion of categories in a dataset.\n"
   ]
  },
  {
   "cell_type": "code",
   "execution_count": null,
   "id": "c2260489",
   "metadata": {},
   "outputs": [],
   "source": [
    "# Pie chart\n",
    "plt.pie(df['value_column'], labels=df['category_column'], autopct='%1.1f%%')\n",
    "plt.title('Pie Chart')\n",
    "plt.show()"
   ]
  },
  {
   "cell_type": "markdown",
   "id": "06975e81",
   "metadata": {},
   "source": [
    "### Example\n",
    "Here’s an example of how you can combine descriptive statistics and data visualization for EDA:"
   ]
  },
  {
   "cell_type": "code",
   "execution_count": null,
   "id": "ba7ed0bc",
   "metadata": {},
   "outputs": [],
   "source": [
    "import pandas as pd\n",
    "import matplotlib.pyplot as plt"
   ]
  },
  {
   "cell_type": "code",
   "execution_count": null,
   "id": "91a96e83",
   "metadata": {},
   "outputs": [
    {
     "data": {
      "text/html": [
       "<div>\n",
       "<style scoped>\n",
       "    .dataframe tbody tr th:only-of-type {\n",
       "        vertical-align: middle;\n",
       "    }\n",
       "\n",
       "    .dataframe tbody tr th {\n",
       "        vertical-align: top;\n",
       "    }\n",
       "\n",
       "    .dataframe thead th {\n",
       "        text-align: right;\n",
       "    }\n",
       "</style>\n",
       "<table border=\"1\" class=\"dataframe\">\n",
       "  <thead>\n",
       "    <tr style=\"text-align: right;\">\n",
       "      <th></th>\n",
       "      <th>Name</th>\n",
       "      <th>Age</th>\n",
       "      <th>Salary</th>\n",
       "    </tr>\n",
       "  </thead>\n",
       "  <tbody>\n",
       "    <tr>\n",
       "      <th>0</th>\n",
       "      <td>Kayode</td>\n",
       "      <td>25</td>\n",
       "      <td>50000</td>\n",
       "    </tr>\n",
       "    <tr>\n",
       "      <th>1</th>\n",
       "      <td>Bimbo</td>\n",
       "      <td>30</td>\n",
       "      <td>60000</td>\n",
       "    </tr>\n",
       "    <tr>\n",
       "      <th>2</th>\n",
       "      <td>Tayo</td>\n",
       "      <td>35</td>\n",
       "      <td>70000</td>\n",
       "    </tr>\n",
       "    <tr>\n",
       "      <th>3</th>\n",
       "      <td>Sule</td>\n",
       "      <td>40</td>\n",
       "      <td>80000</td>\n",
       "    </tr>\n",
       "    <tr>\n",
       "      <th>4</th>\n",
       "      <td>Chinwe</td>\n",
       "      <td>29</td>\n",
       "      <td>62000</td>\n",
       "    </tr>\n",
       "  </tbody>\n",
       "</table>\n",
       "</div>"
      ],
      "text/plain": [
       "     Name  Age  Salary\n",
       "0  Kayode   25   50000\n",
       "1   Bimbo   30   60000\n",
       "2    Tayo   35   70000\n",
       "3    Sule   40   80000\n",
       "4  Chinwe   29   62000"
      ]
     },
     "execution_count": 10,
     "metadata": {},
     "output_type": "execute_result"
    }
   ],
   "source": [
    "# Sample dataset\n",
    "data = {'Name': ['Kayode', 'Bimbo', 'Tayo', 'Sule', 'Chinwe'],\n",
    "        'Age': [25, 30, 35, 40, 29],\n",
    "        'Salary': [50000, 60000, 70000, 80000, 62000]}\n",
    "df = pd.DataFrame(data)\n",
    "df"
   ]
  },
  {
   "cell_type": "code",
   "execution_count": null,
   "id": "ac73186c",
   "metadata": {},
   "outputs": [
    {
     "name": "stdout",
     "output_type": "stream",
     "text": [
      "Mean of Age: 31.8\n",
      "Median of Salary: 62000.0\n"
     ]
    }
   ],
   "source": [
    "# Descriptive Statistics\n",
    "print(\"Mean of Age:\", df['Age'].mean())\n",
    "print(\"Median of Salary:\", df['Salary'].median())\n"
   ]
  },
  {
   "cell_type": "code",
   "execution_count": null,
   "id": "3165f407",
   "metadata": {},
   "outputs": [
    {
     "data": {
      "image/png": "[encoded data removed]",
      "text/plain": [
       "<Figure size 640x480 with 1 Axes>"
      ]
     },
     "metadata": {},
     "output_type": "display_data"
    }
   ],
   "source": [
    "# Visualizations\n",
    "# Histogram of Age\n",
    "plt.hist(df['Age'], bins=2, color='blue', edgecolor='red')\n",
    "plt.title('Age Distribution')\n",
    "plt.xlabel('Age')\n",
    "plt.ylabel('Frequency')\n",
    "plt.show()"
   ]
  },
  {
   "cell_type": "code",
   "execution_count": null,
   "id": "54dccfa9",
   "metadata": {},
   "outputs": [
    {
     "data": {
      "image/png": "[encoded data removed]",
      "text/plain": [
       "<Figure size 640x480 with 1 Axes>"
      ]
     },
     "metadata": {},
     "output_type": "display_data"
    }
   ],
   "source": [
    "# Scatter Plot of Age vs Salary\n",
    "plt.scatter(df['Age'], df['Salary'])\n",
    "plt.title('Age vs Salary')\n",
    "plt.xlabel('Age')\n",
    "plt.ylabel('Salary')\n",
    "plt.show()"
   ]
  },
  {
   "cell_type": "markdown",
   "id": "b3e277a1",
   "metadata": {},
   "source": [
    "In this code:\n",
    "- We calculated the mean of the \"Age\" column and the median of the \"Salary\" column.\n",
    "- We plotted a histogram to show the age distribution and a scatter plot to visualize the relationship between age and salary.\n"
   ]
  },
  {
   "cell_type": "markdown",
   "id": "b384c2a1",
   "metadata": {},
   "source": [
    "### Summary\n",
    "\n",
    "**Descriptive Statistics:**\n",
    "- Descriptive statistics help summarize and describe the central tendency, dispersion, and distribution of a dataset.\n",
    "- Measures like mean, median, variance, standard deviation, and frequency distributions are essential in understanding the data.\n",
    "\n",
    "**Data Visualization with Matplotlib:**\n",
    "- Matplotlib is a versatile library that helps visualize data in various forms, such as line plots, bar plots, histograms, box plots, scatter plots, and more.\n",
    "- Visualizations provide insights into the distribution, relationships, and patterns in the dataset, making EDA more effective.\n",
    "\n",
    "EDA is an essential first step in any data analysis process, as it allows you to better understand the data and prepares it for deeper analysis or modeling."
   ]
  }
 ],
 "metadata": {
  "kernelspec": {
   "display_name": "Python 3",
   "language": "python",
   "name": "python3"
  },
  "language_info": {
   "codemirror_mode": {
    "name": "ipython",
    "version": 3
   },
   "file_extension": ".py",
   "mimetype": "text/x-python",
   "name": "python",
   "nbconvert_exporter": "python",
   "pygments_lexer": "ipython3",
   "version": "3.13.7"
  }
 },
 "nbformat": 4,
 "nbformat_minor": 5
}
