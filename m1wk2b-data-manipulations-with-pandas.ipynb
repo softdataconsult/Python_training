{
 "cells": [
  {
   "cell_type": "markdown",
   "id": "07967fd0",
   "metadata": {},
   "source": [
    "### **Data Manipulation with Pandas**"
   ]
  },
  {
   "cell_type": "markdown",
   "id": "c6e9453a",
   "metadata": {},
   "source": [
    "**Pandas** is a powerful and flexible open-source library in Python that provides data structures and data analysis tools. It is widely used for data manipulation, data cleaning, and data exploration, and is designed to work with structured data like tables. The two main data structures in Pandas are Series and DataFrames."
   ]
  },
  {
   "cell_type": "markdown",
   "id": "c5f0a71f",
   "metadata": {},
   "source": [
    "#### 1. **Pandas Series**\n",
    "\n",
    "A Series is a one-dimensional array-like object in Pandas that can hold any type of data such as integers, floats, strings, or even other Python objects. Each element in a Series has a corresponding index label, which allows for easy access to data.\n",
    "\n",
    "##### **Creating a Pandas Series**\n",
    "\n",
    "You can create a Series using the `pd.Series()` function, where pd is the typical alias for Pandas:\n"
   ]
  },
  {
   "cell_type": "code",
   "execution_count": 1,
   "id": "0adbf566",
   "metadata": {},
   "outputs": [
    {
     "name": "stdout",
     "output_type": "stream",
     "text": [
      "0    10\n",
      "1    20\n",
      "2    30\n",
      "3    40\n",
      "dtype: int64\n"
     ]
    }
   ],
   "source": [
    "import pandas as pd\n",
    "\n",
    "# Creating a Series from a list\n",
    "data = [10, 20, 30, 40]\n",
    "height = pd.Series(data)\n",
    "print(height)"
   ]
  },
  {
   "cell_type": "markdown",
   "id": "10d580e0",
   "metadata": {},
   "source": [
    "•\tThe left column is the index, and the right column is the data.\n",
    "\n",
    "•\tBy default, Pandas assigns integer indexes starting from 0.\n"
   ]
  },
  {
   "cell_type": "markdown",
   "id": "75a2851f",
   "metadata": {},
   "source": [
    "##### **Custom Index**\n",
    "\n",
    "You can also specify custom indices for a Series:\n"
   ]
  },
  {
   "cell_type": "code",
   "execution_count": 2,
   "id": "09101514",
   "metadata": {},
   "outputs": [
    {
     "name": "stdout",
     "output_type": "stream",
     "text": [
      "0    100\n",
      "1    200\n",
      "2    300\n",
      "dtype: int64\n"
     ]
    }
   ],
   "source": [
    "y = pd.Series([100, 200, 300])\n",
    "print(y)"
   ]
  },
  {
   "cell_type": "code",
   "execution_count": 3,
   "id": "f2f32982",
   "metadata": {
    "scrolled": true
   },
   "outputs": [
    {
     "name": "stdout",
     "output_type": "stream",
     "text": [
      "a    100\n",
      "b    200\n",
      "c    300\n",
      "dtype: int64\n"
     ]
    }
   ],
   "source": [
    "s = pd.Series([100, 200, 300], index = ('a', 'b', 'c'))\n",
    "print(s)"
   ]
  },
  {
   "cell_type": "markdown",
   "id": "b6b655c7",
   "metadata": {},
   "source": [
    "##### **Accessing Data in a Series**\n",
    "\n",
    "You can access elements in a Series using both integer and label-based indexing:\n"
   ]
  },
  {
   "cell_type": "code",
   "execution_count": 4,
   "id": "d0749c1b",
   "metadata": {},
   "outputs": [
    {
     "name": "stdout",
     "output_type": "stream",
     "text": [
      "200\n",
      "300\n"
     ]
    }
   ],
   "source": [
    "# Accessing elements by index\n",
    "print(y[1])  # Output: 200\n",
    "print(s['c'])  # Output: 300"
   ]
  },
  {
   "cell_type": "markdown",
   "id": "406cc465",
   "metadata": {},
   "source": [
    "#### 2. Pandas DataFrame\n",
    "A DataFrame is a two-dimensional, size-mutable, and potentially heterogeneous tabular data structure. Think of it as a table or a spreadsheet in Python, where rows represent records and columns represent attributes.\n",
    "\n",
    "##### **Creating a Pandas DataFrame**\n",
    "\n",
    "You can create a DataFrame in many ways, including from a dictionary, list of lists, or a NumPy array.\n",
    "\n",
    "##### **1.\tFrom a dictionary:**\n"
   ]
  },
  {
   "cell_type": "code",
   "execution_count": 5,
   "id": "ee05c33f",
   "metadata": {},
   "outputs": [
    {
     "data": {
      "text/html": [
       "<div>\n",
       "<style scoped>\n",
       "    .dataframe tbody tr th:only-of-type {\n",
       "        vertical-align: middle;\n",
       "    }\n",
       "\n",
       "    .dataframe tbody tr th {\n",
       "        vertical-align: top;\n",
       "    }\n",
       "\n",
       "    .dataframe thead th {\n",
       "        text-align: right;\n",
       "    }\n",
       "</style>\n",
       "<table border=\"1\" class=\"dataframe\">\n",
       "  <thead>\n",
       "    <tr style=\"text-align: right;\">\n",
       "      <th></th>\n",
       "      <th>Name</th>\n",
       "      <th>Age</th>\n",
       "      <th>Salary</th>\n",
       "    </tr>\n",
       "  </thead>\n",
       "  <tbody>\n",
       "    <tr>\n",
       "      <th>0</th>\n",
       "      <td>Abiodun</td>\n",
       "      <td>25</td>\n",
       "      <td>50000</td>\n",
       "    </tr>\n",
       "    <tr>\n",
       "      <th>1</th>\n",
       "      <td>John</td>\n",
       "      <td>30</td>\n",
       "      <td>60000</td>\n",
       "    </tr>\n",
       "    <tr>\n",
       "      <th>2</th>\n",
       "      <td>Uche</td>\n",
       "      <td>35</td>\n",
       "      <td>70000</td>\n",
       "    </tr>\n",
       "  </tbody>\n",
       "</table>\n",
       "</div>"
      ],
      "text/plain": [
       "      Name  Age  Salary\n",
       "0  Abiodun   25   50000\n",
       "1     John   30   60000\n",
       "2     Uche   35   70000"
      ]
     },
     "execution_count": 5,
     "metadata": {},
     "output_type": "execute_result"
    }
   ],
   "source": [
    "data = {\n",
    "    'Name': ['Abiodun', 'John', 'Uche'],\n",
    "    'Age': [25, 30, 35],\n",
    "    'Salary': [50000, 60000, 70000]\n",
    "}\n",
    "df = pd.DataFrame(data)\n",
    "\n",
    "df"
   ]
  },
  {
   "cell_type": "markdown",
   "id": "6c17b396",
   "metadata": {},
   "source": [
    "#### df.to_string() function"
   ]
  },
  {
   "cell_type": "markdown",
   "id": "c42794e7",
   "metadata": {},
   "source": [
    "In Python's Pandas library, ```df.to_string()``` is a versatile method used to convert a DataFrame into a string representation. This string can then be printed to the console, written to a file, or used in other text-based operations."
   ]
  },
  {
   "cell_type": "code",
   "execution_count": 6,
   "id": "ba1b81ac",
   "metadata": {},
   "outputs": [
    {
     "name": "stdout",
     "output_type": "stream",
     "text": [
      "   Name  Age  Salary\n",
      "Abiodun   25   50000\n",
      "   John   30   60000\n",
      "   Uche   35   70000\n"
     ]
    }
   ],
   "source": [
    "import pandas as pd\n",
    "\n",
    "# Create a sample DataFrame\n",
    "data = {'Name': ['Abiodun', 'John', 'Uche'],\n",
    "        'Age': [25, 30, 35],\n",
    "      'Salary': [50000, 60000, 70000]\n",
    "}\n",
    "df = pd.DataFrame(data)\n",
    "\n",
    "# Convert the DataFrame to a string\n",
    "string_representation = df.to_string(index=False)\n",
    "\n",
    "# Print the string representation\n",
    "print(string_representation)"
   ]
  },
  {
   "cell_type": "markdown",
   "id": "fee6fe08",
   "metadata": {},
   "source": [
    "#### **2.\tFrom a list of lists:**"
   ]
  },
  {
   "cell_type": "code",
   "execution_count": 7,
   "id": "8f79e690",
   "metadata": {},
   "outputs": [
    {
     "name": "stdout",
     "output_type": "stream",
     "text": [
      "   Name  Age  Salary\n",
      "0   Ope   25   50000\n",
      "1  John   30   60000\n",
      "2  Uche   35   70000\n"
     ]
    }
   ],
   "source": [
    "import pandas as pd\n",
    "data = [\n",
    "    ['Ope', 25, 50000],\n",
    "    ['John', 30, 60000],\n",
    "    ['Uche', 35, 70000]\n",
    "]\n",
    "df = pd.DataFrame(data, columns=['Name', 'Age', 'Salary'])\n",
    "print(df)\n"
   ]
  },
  {
   "cell_type": "markdown",
   "id": "ed186048",
   "metadata": {},
   "source": [
    "##### **Accessing Data in a DataFrame**\n",
    "\n",
    "You can access rows, columns, and individual elements using various methods.\n",
    "\n",
    "##### Accessing Columns: \n",
    "\n",
    "You can access a column like you would access a dictionary value or as an attribute.\n"
   ]
  },
  {
   "cell_type": "code",
   "execution_count": 8,
   "id": "d7dd8a79",
   "metadata": {},
   "outputs": [
    {
     "name": "stdout",
     "output_type": "stream",
     "text": [
      "0     Ope\n",
      "1    John\n",
      "2    Uche\n",
      "Name: Name, dtype: object\n",
      "   Salary  Age\n",
      "0   50000   25\n",
      "1   60000   30\n",
      "2   70000   35\n"
     ]
    }
   ],
   "source": [
    "# Accessing a single column\n",
    "print(df['Name'])  # Output: Pandas Series\n",
    "\n",
    "# Accessing multiple columns\n",
    "print(df[['Salary', 'Age']])  # Output: DataFrame with selected columns\n"
   ]
  },
  {
   "cell_type": "markdown",
   "id": "448cb42c",
   "metadata": {},
   "source": [
    "##### Accessing Rows: Use loc or iloc for row access.\n",
    "\n",
    "–\tloc: Access by label.\n",
    "\n",
    "–\tiloc: Access by integer index.\n"
   ]
  },
  {
   "cell_type": "code",
   "execution_count": 9,
   "id": "1e59b52c",
   "metadata": {},
   "outputs": [
    {
     "name": "stdout",
     "output_type": "stream",
     "text": [
      "Name        Ope\n",
      "Age          25\n",
      "Salary    50000\n",
      "Name: 0, dtype: object\n",
      "Name        Ope\n",
      "Age          25\n",
      "Salary    50000\n",
      "Name: 0, dtype: object\n",
      "   Name  Age  Salary\n",
      "0   Ope   25   50000\n",
      "1  John   30   60000\n"
     ]
    }
   ],
   "source": [
    "# Access by integer index (first row)\n",
    "print(df.iloc[0])  # Output: Pandas Series\n",
    "\n",
    "# Access by label (first row)\n",
    "print(df.loc[0])  # Output: Pandas Series\n",
    "\n",
    "# Slicing rows\n",
    "print(df.iloc[0:2])  # Output: DataFrame of first two rows\n"
   ]
  },
  {
   "cell_type": "markdown",
   "id": "c87469f6",
   "metadata": {},
   "source": [
    "#### 3. Basic Operations with DataFrames\n",
    "Pandas provides a variety of functions to perform basic operations on DataFrames, such as selecting, filtering, adding columns, and modifying the data.\n",
    "\n",
    "##### **Adding a New Column**\n",
    "\n",
    "You can add a new column by assigning a new value to it:\n"
   ]
  },
  {
   "cell_type": "code",
   "execution_count": 10,
   "id": "7799e0ba",
   "metadata": {},
   "outputs": [
    {
     "name": "stdout",
     "output_type": "stream",
     "text": [
      "   Name  Age  Salary    City\n",
      "0   Ope   25   50000  Ibadan\n",
      "1  John   30   60000   Lagos\n",
      "2  Uche   35   70000   Benin\n"
     ]
    }
   ],
   "source": [
    "df['City'] = ['Ibadan', 'Lagos', 'Benin']\n",
    "print(df)"
   ]
  },
  {
   "cell_type": "markdown",
   "id": "3241840a",
   "metadata": {},
   "source": [
    "##### **Filtering Data**\n",
    "\n",
    "You can filter rows based on conditions:\n"
   ]
  },
  {
   "cell_type": "code",
   "execution_count": 11,
   "id": "65da0d3c",
   "metadata": {},
   "outputs": [
    {
     "name": "stdout",
     "output_type": "stream",
     "text": [
      "   Name  Age  Salary   City\n",
      "1  John   30   60000  Lagos\n",
      "2  Uche   35   70000  Benin\n"
     ]
    }
   ],
   "source": [
    "# Filter rows where Salary is greater than 55000\n",
    "ab_55 = df['Salary']\n",
    "above_55 = df[ab_55 > 55000]\n",
    "print(above_55)\n"
   ]
  },
  {
   "cell_type": "markdown",
   "id": "005820d7",
   "metadata": {},
   "source": [
    "##### **Dropping Columns or Rows**\n",
    "\n",
    "You can remove columns or rows using the `drop()` method:\n"
   ]
  },
  {
   "cell_type": "code",
   "execution_count": 12,
   "id": "d1dd5130",
   "metadata": {},
   "outputs": [
    {
     "name": "stdout",
     "output_type": "stream",
     "text": [
      "   Name  Age  Salary\n",
      "1  John   30   60000\n",
      "2  Uche   35   70000\n"
     ]
    }
   ],
   "source": [
    "##### Dropping a column\n",
    "df = df.drop(columns=['City'])\n",
    "\n",
    "# Dropping a row\n",
    "df = df.drop(0)  # Removes the row with index 1\n",
    "print(df)\n"
   ]
  },
  {
   "cell_type": "markdown",
   "id": "8d207373",
   "metadata": {},
   "source": [
    "#### 4. Reading/Writing Data Files\n",
    "Pandas makes it easy to read from and write to different file formats such as CSV, Excel, JSON, and SQL databases.\n",
    "\n",
    "##### **Reading CSV Files**\n",
    "\n",
    "You can read data from a CSV file using the `pd.read_csv()` function:\n"
   ]
  },
  {
   "cell_type": "code",
   "execution_count": 13,
   "id": "32c37e7a",
   "metadata": {},
   "outputs": [
    {
     "ename": "FileNotFoundError",
     "evalue": "[Errno 2] No such file or directory: 'obesity_matadata.csv'",
     "output_type": "error",
     "traceback": [
      "\u001b[31m---------------------------------------------------------------------------\u001b[39m",
      "\u001b[31mFileNotFoundError\u001b[39m                         Traceback (most recent call last)",
      "\u001b[36mCell\u001b[39m\u001b[36m \u001b[39m\u001b[32mIn[13]\u001b[39m\u001b[32m, line 3\u001b[39m\n\u001b[32m      1\u001b[39m \u001b[38;5;66;03m# Reading a CSV file\u001b[39;00m\n\u001b[32m      2\u001b[39m \u001b[38;5;28;01mimport\u001b[39;00m\u001b[38;5;250m \u001b[39m\u001b[34;01mpandas\u001b[39;00m\u001b[38;5;250m \u001b[39m\u001b[38;5;28;01mas\u001b[39;00m\u001b[38;5;250m \u001b[39m\u001b[34;01mpd\u001b[39;00m\n\u001b[32m----> \u001b[39m\u001b[32m3\u001b[39m df2 = \u001b[43mpd\u001b[49m\u001b[43m.\u001b[49m\u001b[43mread_csv\u001b[49m\u001b[43m(\u001b[49m\u001b[33;43m'\u001b[39;49m\u001b[33;43mobesity_matadata.csv\u001b[39;49m\u001b[33;43m'\u001b[39;49m\u001b[43m)\u001b[49m\n\u001b[32m      4\u001b[39m \u001b[38;5;28mprint\u001b[39m(df2)\n",
      "\u001b[36mFile \u001b[39m\u001b[32mc:\\Users\\DR  AJAO\\AppData\\Local\\Programs\\Python\\Python313\\Lib\\site-packages\\pandas\\io\\parsers\\readers.py:1026\u001b[39m, in \u001b[36mread_csv\u001b[39m\u001b[34m(filepath_or_buffer, sep, delimiter, header, names, index_col, usecols, dtype, engine, converters, true_values, false_values, skipinitialspace, skiprows, skipfooter, nrows, na_values, keep_default_na, na_filter, verbose, skip_blank_lines, parse_dates, infer_datetime_format, keep_date_col, date_parser, date_format, dayfirst, cache_dates, iterator, chunksize, compression, thousands, decimal, lineterminator, quotechar, quoting, doublequote, escapechar, comment, encoding, encoding_errors, dialect, on_bad_lines, delim_whitespace, low_memory, memory_map, float_precision, storage_options, dtype_backend)\u001b[39m\n\u001b[32m   1013\u001b[39m kwds_defaults = _refine_defaults_read(\n\u001b[32m   1014\u001b[39m     dialect,\n\u001b[32m   1015\u001b[39m     delimiter,\n\u001b[32m   (...)\u001b[39m\u001b[32m   1022\u001b[39m     dtype_backend=dtype_backend,\n\u001b[32m   1023\u001b[39m )\n\u001b[32m   1024\u001b[39m kwds.update(kwds_defaults)\n\u001b[32m-> \u001b[39m\u001b[32m1026\u001b[39m \u001b[38;5;28;01mreturn\u001b[39;00m \u001b[43m_read\u001b[49m\u001b[43m(\u001b[49m\u001b[43mfilepath_or_buffer\u001b[49m\u001b[43m,\u001b[49m\u001b[43m \u001b[49m\u001b[43mkwds\u001b[49m\u001b[43m)\u001b[49m\n",
      "\u001b[36mFile \u001b[39m\u001b[32mc:\\Users\\DR  AJAO\\AppData\\Local\\Programs\\Python\\Python313\\Lib\\site-packages\\pandas\\io\\parsers\\readers.py:620\u001b[39m, in \u001b[36m_read\u001b[39m\u001b[34m(filepath_or_buffer, kwds)\u001b[39m\n\u001b[32m    617\u001b[39m _validate_names(kwds.get(\u001b[33m\"\u001b[39m\u001b[33mnames\u001b[39m\u001b[33m\"\u001b[39m, \u001b[38;5;28;01mNone\u001b[39;00m))\n\u001b[32m    619\u001b[39m \u001b[38;5;66;03m# Create the parser.\u001b[39;00m\n\u001b[32m--> \u001b[39m\u001b[32m620\u001b[39m parser = \u001b[43mTextFileReader\u001b[49m\u001b[43m(\u001b[49m\u001b[43mfilepath_or_buffer\u001b[49m\u001b[43m,\u001b[49m\u001b[43m \u001b[49m\u001b[43m*\u001b[49m\u001b[43m*\u001b[49m\u001b[43mkwds\u001b[49m\u001b[43m)\u001b[49m\n\u001b[32m    622\u001b[39m \u001b[38;5;28;01mif\u001b[39;00m chunksize \u001b[38;5;129;01mor\u001b[39;00m iterator:\n\u001b[32m    623\u001b[39m     \u001b[38;5;28;01mreturn\u001b[39;00m parser\n",
      "\u001b[36mFile \u001b[39m\u001b[32mc:\\Users\\DR  AJAO\\AppData\\Local\\Programs\\Python\\Python313\\Lib\\site-packages\\pandas\\io\\parsers\\readers.py:1620\u001b[39m, in \u001b[36mTextFileReader.__init__\u001b[39m\u001b[34m(self, f, engine, **kwds)\u001b[39m\n\u001b[32m   1617\u001b[39m     \u001b[38;5;28mself\u001b[39m.options[\u001b[33m\"\u001b[39m\u001b[33mhas_index_names\u001b[39m\u001b[33m\"\u001b[39m] = kwds[\u001b[33m\"\u001b[39m\u001b[33mhas_index_names\u001b[39m\u001b[33m\"\u001b[39m]\n\u001b[32m   1619\u001b[39m \u001b[38;5;28mself\u001b[39m.handles: IOHandles | \u001b[38;5;28;01mNone\u001b[39;00m = \u001b[38;5;28;01mNone\u001b[39;00m\n\u001b[32m-> \u001b[39m\u001b[32m1620\u001b[39m \u001b[38;5;28mself\u001b[39m._engine = \u001b[38;5;28;43mself\u001b[39;49m\u001b[43m.\u001b[49m\u001b[43m_make_engine\u001b[49m\u001b[43m(\u001b[49m\u001b[43mf\u001b[49m\u001b[43m,\u001b[49m\u001b[43m \u001b[49m\u001b[38;5;28;43mself\u001b[39;49m\u001b[43m.\u001b[49m\u001b[43mengine\u001b[49m\u001b[43m)\u001b[49m\n",
      "\u001b[36mFile \u001b[39m\u001b[32mc:\\Users\\DR  AJAO\\AppData\\Local\\Programs\\Python\\Python313\\Lib\\site-packages\\pandas\\io\\parsers\\readers.py:1880\u001b[39m, in \u001b[36mTextFileReader._make_engine\u001b[39m\u001b[34m(self, f, engine)\u001b[39m\n\u001b[32m   1878\u001b[39m     \u001b[38;5;28;01mif\u001b[39;00m \u001b[33m\"\u001b[39m\u001b[33mb\u001b[39m\u001b[33m\"\u001b[39m \u001b[38;5;129;01mnot\u001b[39;00m \u001b[38;5;129;01min\u001b[39;00m mode:\n\u001b[32m   1879\u001b[39m         mode += \u001b[33m\"\u001b[39m\u001b[33mb\u001b[39m\u001b[33m\"\u001b[39m\n\u001b[32m-> \u001b[39m\u001b[32m1880\u001b[39m \u001b[38;5;28mself\u001b[39m.handles = \u001b[43mget_handle\u001b[49m\u001b[43m(\u001b[49m\n\u001b[32m   1881\u001b[39m \u001b[43m    \u001b[49m\u001b[43mf\u001b[49m\u001b[43m,\u001b[49m\n\u001b[32m   1882\u001b[39m \u001b[43m    \u001b[49m\u001b[43mmode\u001b[49m\u001b[43m,\u001b[49m\n\u001b[32m   1883\u001b[39m \u001b[43m    \u001b[49m\u001b[43mencoding\u001b[49m\u001b[43m=\u001b[49m\u001b[38;5;28;43mself\u001b[39;49m\u001b[43m.\u001b[49m\u001b[43moptions\u001b[49m\u001b[43m.\u001b[49m\u001b[43mget\u001b[49m\u001b[43m(\u001b[49m\u001b[33;43m\"\u001b[39;49m\u001b[33;43mencoding\u001b[39;49m\u001b[33;43m\"\u001b[39;49m\u001b[43m,\u001b[49m\u001b[43m \u001b[49m\u001b[38;5;28;43;01mNone\u001b[39;49;00m\u001b[43m)\u001b[49m\u001b[43m,\u001b[49m\n\u001b[32m   1884\u001b[39m \u001b[43m    \u001b[49m\u001b[43mcompression\u001b[49m\u001b[43m=\u001b[49m\u001b[38;5;28;43mself\u001b[39;49m\u001b[43m.\u001b[49m\u001b[43moptions\u001b[49m\u001b[43m.\u001b[49m\u001b[43mget\u001b[49m\u001b[43m(\u001b[49m\u001b[33;43m\"\u001b[39;49m\u001b[33;43mcompression\u001b[39;49m\u001b[33;43m\"\u001b[39;49m\u001b[43m,\u001b[49m\u001b[43m \u001b[49m\u001b[38;5;28;43;01mNone\u001b[39;49;00m\u001b[43m)\u001b[49m\u001b[43m,\u001b[49m\n\u001b[32m   1885\u001b[39m \u001b[43m    \u001b[49m\u001b[43mmemory_map\u001b[49m\u001b[43m=\u001b[49m\u001b[38;5;28;43mself\u001b[39;49m\u001b[43m.\u001b[49m\u001b[43moptions\u001b[49m\u001b[43m.\u001b[49m\u001b[43mget\u001b[49m\u001b[43m(\u001b[49m\u001b[33;43m\"\u001b[39;49m\u001b[33;43mmemory_map\u001b[39;49m\u001b[33;43m\"\u001b[39;49m\u001b[43m,\u001b[49m\u001b[43m \u001b[49m\u001b[38;5;28;43;01mFalse\u001b[39;49;00m\u001b[43m)\u001b[49m\u001b[43m,\u001b[49m\n\u001b[32m   1886\u001b[39m \u001b[43m    \u001b[49m\u001b[43mis_text\u001b[49m\u001b[43m=\u001b[49m\u001b[43mis_text\u001b[49m\u001b[43m,\u001b[49m\n\u001b[32m   1887\u001b[39m \u001b[43m    \u001b[49m\u001b[43merrors\u001b[49m\u001b[43m=\u001b[49m\u001b[38;5;28;43mself\u001b[39;49m\u001b[43m.\u001b[49m\u001b[43moptions\u001b[49m\u001b[43m.\u001b[49m\u001b[43mget\u001b[49m\u001b[43m(\u001b[49m\u001b[33;43m\"\u001b[39;49m\u001b[33;43mencoding_errors\u001b[39;49m\u001b[33;43m\"\u001b[39;49m\u001b[43m,\u001b[49m\u001b[43m \u001b[49m\u001b[33;43m\"\u001b[39;49m\u001b[33;43mstrict\u001b[39;49m\u001b[33;43m\"\u001b[39;49m\u001b[43m)\u001b[49m\u001b[43m,\u001b[49m\n\u001b[32m   1888\u001b[39m \u001b[43m    \u001b[49m\u001b[43mstorage_options\u001b[49m\u001b[43m=\u001b[49m\u001b[38;5;28;43mself\u001b[39;49m\u001b[43m.\u001b[49m\u001b[43moptions\u001b[49m\u001b[43m.\u001b[49m\u001b[43mget\u001b[49m\u001b[43m(\u001b[49m\u001b[33;43m\"\u001b[39;49m\u001b[33;43mstorage_options\u001b[39;49m\u001b[33;43m\"\u001b[39;49m\u001b[43m,\u001b[49m\u001b[43m \u001b[49m\u001b[38;5;28;43;01mNone\u001b[39;49;00m\u001b[43m)\u001b[49m\u001b[43m,\u001b[49m\n\u001b[32m   1889\u001b[39m \u001b[43m\u001b[49m\u001b[43m)\u001b[49m\n\u001b[32m   1890\u001b[39m \u001b[38;5;28;01massert\u001b[39;00m \u001b[38;5;28mself\u001b[39m.handles \u001b[38;5;129;01mis\u001b[39;00m \u001b[38;5;129;01mnot\u001b[39;00m \u001b[38;5;28;01mNone\u001b[39;00m\n\u001b[32m   1891\u001b[39m f = \u001b[38;5;28mself\u001b[39m.handles.handle\n",
      "\u001b[36mFile \u001b[39m\u001b[32mc:\\Users\\DR  AJAO\\AppData\\Local\\Programs\\Python\\Python313\\Lib\\site-packages\\pandas\\io\\common.py:873\u001b[39m, in \u001b[36mget_handle\u001b[39m\u001b[34m(path_or_buf, mode, encoding, compression, memory_map, is_text, errors, storage_options)\u001b[39m\n\u001b[32m    868\u001b[39m \u001b[38;5;28;01melif\u001b[39;00m \u001b[38;5;28misinstance\u001b[39m(handle, \u001b[38;5;28mstr\u001b[39m):\n\u001b[32m    869\u001b[39m     \u001b[38;5;66;03m# Check whether the filename is to be opened in binary mode.\u001b[39;00m\n\u001b[32m    870\u001b[39m     \u001b[38;5;66;03m# Binary mode does not support 'encoding' and 'newline'.\u001b[39;00m\n\u001b[32m    871\u001b[39m     \u001b[38;5;28;01mif\u001b[39;00m ioargs.encoding \u001b[38;5;129;01mand\u001b[39;00m \u001b[33m\"\u001b[39m\u001b[33mb\u001b[39m\u001b[33m\"\u001b[39m \u001b[38;5;129;01mnot\u001b[39;00m \u001b[38;5;129;01min\u001b[39;00m ioargs.mode:\n\u001b[32m    872\u001b[39m         \u001b[38;5;66;03m# Encoding\u001b[39;00m\n\u001b[32m--> \u001b[39m\u001b[32m873\u001b[39m         handle = \u001b[38;5;28;43mopen\u001b[39;49m\u001b[43m(\u001b[49m\n\u001b[32m    874\u001b[39m \u001b[43m            \u001b[49m\u001b[43mhandle\u001b[49m\u001b[43m,\u001b[49m\n\u001b[32m    875\u001b[39m \u001b[43m            \u001b[49m\u001b[43mioargs\u001b[49m\u001b[43m.\u001b[49m\u001b[43mmode\u001b[49m\u001b[43m,\u001b[49m\n\u001b[32m    876\u001b[39m \u001b[43m            \u001b[49m\u001b[43mencoding\u001b[49m\u001b[43m=\u001b[49m\u001b[43mioargs\u001b[49m\u001b[43m.\u001b[49m\u001b[43mencoding\u001b[49m\u001b[43m,\u001b[49m\n\u001b[32m    877\u001b[39m \u001b[43m            \u001b[49m\u001b[43merrors\u001b[49m\u001b[43m=\u001b[49m\u001b[43merrors\u001b[49m\u001b[43m,\u001b[49m\n\u001b[32m    878\u001b[39m \u001b[43m            \u001b[49m\u001b[43mnewline\u001b[49m\u001b[43m=\u001b[49m\u001b[33;43m\"\u001b[39;49m\u001b[33;43m\"\u001b[39;49m\u001b[43m,\u001b[49m\n\u001b[32m    879\u001b[39m \u001b[43m        \u001b[49m\u001b[43m)\u001b[49m\n\u001b[32m    880\u001b[39m     \u001b[38;5;28;01melse\u001b[39;00m:\n\u001b[32m    881\u001b[39m         \u001b[38;5;66;03m# Binary mode\u001b[39;00m\n\u001b[32m    882\u001b[39m         handle = \u001b[38;5;28mopen\u001b[39m(handle, ioargs.mode)\n",
      "\u001b[31mFileNotFoundError\u001b[39m: [Errno 2] No such file or directory: 'obesity_matadata.csv'"
     ]
    }
   ],
   "source": [
    "# Reading a CSV file\n",
    "import pandas as pd\n",
    "df2 = pd.read_csv('obesity_matadata.csv')\n",
    "print(df2)\n"
   ]
  },
  {
   "cell_type": "markdown",
   "id": "a19bdb5b",
   "metadata": {},
   "source": [
    "#### To import data located outside the directory\n",
    "\n",
    "for instance, data on the desktop"
   ]
  },
  {
   "cell_type": "code",
   "execution_count": null,
   "id": "9f32d012",
   "metadata": {},
   "outputs": [],
   "source": [
    "# Reading a CSV file\n",
    "import pandas as pd\n",
    "df3 = pd.read_csv('obesity_matadata.csv')\n",
    "print(df3)"
   ]
  },
  {
   "cell_type": "code",
   "execution_count": null,
   "id": "368a124d",
   "metadata": {},
   "outputs": [],
   "source": [
    "df4 = pd.read_csv('students_scores.csv')\n",
    "print(df4)"
   ]
  },
  {
   "cell_type": "code",
   "execution_count": null,
   "id": "0fa64894",
   "metadata": {},
   "outputs": [],
   "source": [
    "d4_new = df4.drop(columns=['age'])\n",
    "print(d4_new)"
   ]
  },
  {
   "cell_type": "code",
   "execution_count": null,
   "id": "2a72783c",
   "metadata": {},
   "outputs": [],
   "source": [
    "d4_new.to_csv('student_scorenew.csv', index=False)"
   ]
  },
  {
   "cell_type": "markdown",
   "id": "70e8d28e",
   "metadata": {},
   "source": [
    "##### **Writing CSV Files**\n",
    "\n",
    "You can write a DataFrame to a CSV file using the `to_csv()` function:\n"
   ]
  },
  {
   "cell_type": "code",
   "execution_count": null,
   "id": "a2cac3f9",
   "metadata": {},
   "outputs": [],
   "source": [
    "# Writing to a CSV file\n",
    "df2.to_csv('df2_data.csv', index=False)  # index=False prevents writing the row indices\n"
   ]
  },
  {
   "cell_type": "markdown",
   "id": "ed792a34",
   "metadata": {},
   "source": [
    "##### **Reading Excel Files**\n",
    "\n",
    "To read Excel files, you can use `pd.read_excel()`, but you’ll need the `openpyxl` library for Excel support:\n"
   ]
  },
  {
   "cell_type": "code",
   "execution_count": null,
   "id": "d6a85b0a",
   "metadata": {},
   "outputs": [
    {
     "ename": "FileNotFoundError",
     "evalue": "[Errno 2] No such file or directory: 'df2_data.xlsx'",
     "output_type": "error",
     "traceback": [
      "\u001b[1;31m---------------------------------------------------------------------------\u001b[0m",
      "\u001b[1;31mFileNotFoundError\u001b[0m                         Traceback (most recent call last)",
      "Cell \u001b[1;32mIn[25], line 2\u001b[0m\n\u001b[0;32m      1\u001b[0m \u001b[38;5;66;03m# Reading from an Excel file\u001b[39;00m\n\u001b[1;32m----> 2\u001b[0m df \u001b[38;5;241m=\u001b[39m \u001b[43mpd\u001b[49m\u001b[38;5;241;43m.\u001b[39;49m\u001b[43mread_excel\u001b[49m\u001b[43m(\u001b[49m\u001b[38;5;124;43m'\u001b[39;49m\u001b[38;5;124;43mdf2_data.xlsx\u001b[39;49m\u001b[38;5;124;43m'\u001b[39;49m\u001b[43m,\u001b[49m\u001b[43m \u001b[49m\u001b[43msheet_name\u001b[49m\u001b[38;5;241;43m=\u001b[39;49m\u001b[38;5;124;43m'\u001b[39;49m\u001b[38;5;124;43mSheet1\u001b[39;49m\u001b[38;5;124;43m'\u001b[39;49m\u001b[43m)\u001b[49m\n\u001b[0;32m      3\u001b[0m \u001b[38;5;28mprint\u001b[39m(df)\n",
      "File \u001b[1;32mc:\\Users\\user\\AppData\\Local\\Programs\\Python\\Python311\\Lib\\site-packages\\pandas\\io\\excel\\_base.py:495\u001b[0m, in \u001b[0;36mread_excel\u001b[1;34m(io, sheet_name, header, names, index_col, usecols, dtype, engine, converters, true_values, false_values, skiprows, nrows, na_values, keep_default_na, na_filter, verbose, parse_dates, date_parser, date_format, thousands, decimal, comment, skipfooter, storage_options, dtype_backend, engine_kwargs)\u001b[0m\n\u001b[0;32m    493\u001b[0m \u001b[38;5;28;01mif\u001b[39;00m \u001b[38;5;129;01mnot\u001b[39;00m \u001b[38;5;28misinstance\u001b[39m(io, ExcelFile):\n\u001b[0;32m    494\u001b[0m     should_close \u001b[38;5;241m=\u001b[39m \u001b[38;5;28;01mTrue\u001b[39;00m\n\u001b[1;32m--> 495\u001b[0m     io \u001b[38;5;241m=\u001b[39m \u001b[43mExcelFile\u001b[49m\u001b[43m(\u001b[49m\n\u001b[0;32m    496\u001b[0m \u001b[43m        \u001b[49m\u001b[43mio\u001b[49m\u001b[43m,\u001b[49m\n\u001b[0;32m    497\u001b[0m \u001b[43m        \u001b[49m\u001b[43mstorage_options\u001b[49m\u001b[38;5;241;43m=\u001b[39;49m\u001b[43mstorage_options\u001b[49m\u001b[43m,\u001b[49m\n\u001b[0;32m    498\u001b[0m \u001b[43m        \u001b[49m\u001b[43mengine\u001b[49m\u001b[38;5;241;43m=\u001b[39;49m\u001b[43mengine\u001b[49m\u001b[43m,\u001b[49m\n\u001b[0;32m    499\u001b[0m \u001b[43m        \u001b[49m\u001b[43mengine_kwargs\u001b[49m\u001b[38;5;241;43m=\u001b[39;49m\u001b[43mengine_kwargs\u001b[49m\u001b[43m,\u001b[49m\n\u001b[0;32m    500\u001b[0m \u001b[43m    \u001b[49m\u001b[43m)\u001b[49m\n\u001b[0;32m    501\u001b[0m \u001b[38;5;28;01melif\u001b[39;00m engine \u001b[38;5;129;01mand\u001b[39;00m engine \u001b[38;5;241m!=\u001b[39m io\u001b[38;5;241m.\u001b[39mengine:\n\u001b[0;32m    502\u001b[0m     \u001b[38;5;28;01mraise\u001b[39;00m \u001b[38;5;167;01mValueError\u001b[39;00m(\n\u001b[0;32m    503\u001b[0m         \u001b[38;5;124m\"\u001b[39m\u001b[38;5;124mEngine should not be specified when passing \u001b[39m\u001b[38;5;124m\"\u001b[39m\n\u001b[0;32m    504\u001b[0m         \u001b[38;5;124m\"\u001b[39m\u001b[38;5;124man ExcelFile - ExcelFile already has the engine set\u001b[39m\u001b[38;5;124m\"\u001b[39m\n\u001b[0;32m    505\u001b[0m     )\n",
      "File \u001b[1;32mc:\\Users\\user\\AppData\\Local\\Programs\\Python\\Python311\\Lib\\site-packages\\pandas\\io\\excel\\_base.py:1550\u001b[0m, in \u001b[0;36mExcelFile.__init__\u001b[1;34m(self, path_or_buffer, engine, storage_options, engine_kwargs)\u001b[0m\n\u001b[0;32m   1548\u001b[0m     ext \u001b[38;5;241m=\u001b[39m \u001b[38;5;124m\"\u001b[39m\u001b[38;5;124mxls\u001b[39m\u001b[38;5;124m\"\u001b[39m\n\u001b[0;32m   1549\u001b[0m \u001b[38;5;28;01melse\u001b[39;00m:\n\u001b[1;32m-> 1550\u001b[0m     ext \u001b[38;5;241m=\u001b[39m \u001b[43minspect_excel_format\u001b[49m\u001b[43m(\u001b[49m\n\u001b[0;32m   1551\u001b[0m \u001b[43m        \u001b[49m\u001b[43mcontent_or_path\u001b[49m\u001b[38;5;241;43m=\u001b[39;49m\u001b[43mpath_or_buffer\u001b[49m\u001b[43m,\u001b[49m\u001b[43m \u001b[49m\u001b[43mstorage_options\u001b[49m\u001b[38;5;241;43m=\u001b[39;49m\u001b[43mstorage_options\u001b[49m\n\u001b[0;32m   1552\u001b[0m \u001b[43m    \u001b[49m\u001b[43m)\u001b[49m\n\u001b[0;32m   1553\u001b[0m     \u001b[38;5;28;01mif\u001b[39;00m ext \u001b[38;5;129;01mis\u001b[39;00m \u001b[38;5;28;01mNone\u001b[39;00m:\n\u001b[0;32m   1554\u001b[0m         \u001b[38;5;28;01mraise\u001b[39;00m \u001b[38;5;167;01mValueError\u001b[39;00m(\n\u001b[0;32m   1555\u001b[0m             \u001b[38;5;124m\"\u001b[39m\u001b[38;5;124mExcel file format cannot be determined, you must specify \u001b[39m\u001b[38;5;124m\"\u001b[39m\n\u001b[0;32m   1556\u001b[0m             \u001b[38;5;124m\"\u001b[39m\u001b[38;5;124man engine manually.\u001b[39m\u001b[38;5;124m\"\u001b[39m\n\u001b[0;32m   1557\u001b[0m         )\n",
      "File \u001b[1;32mc:\\Users\\user\\AppData\\Local\\Programs\\Python\\Python311\\Lib\\site-packages\\pandas\\io\\excel\\_base.py:1402\u001b[0m, in \u001b[0;36minspect_excel_format\u001b[1;34m(content_or_path, storage_options)\u001b[0m\n\u001b[0;32m   1399\u001b[0m \u001b[38;5;28;01mif\u001b[39;00m \u001b[38;5;28misinstance\u001b[39m(content_or_path, \u001b[38;5;28mbytes\u001b[39m):\n\u001b[0;32m   1400\u001b[0m     content_or_path \u001b[38;5;241m=\u001b[39m BytesIO(content_or_path)\n\u001b[1;32m-> 1402\u001b[0m \u001b[38;5;28;01mwith\u001b[39;00m \u001b[43mget_handle\u001b[49m\u001b[43m(\u001b[49m\n\u001b[0;32m   1403\u001b[0m \u001b[43m    \u001b[49m\u001b[43mcontent_or_path\u001b[49m\u001b[43m,\u001b[49m\u001b[43m \u001b[49m\u001b[38;5;124;43m\"\u001b[39;49m\u001b[38;5;124;43mrb\u001b[39;49m\u001b[38;5;124;43m\"\u001b[39;49m\u001b[43m,\u001b[49m\u001b[43m \u001b[49m\u001b[43mstorage_options\u001b[49m\u001b[38;5;241;43m=\u001b[39;49m\u001b[43mstorage_options\u001b[49m\u001b[43m,\u001b[49m\u001b[43m \u001b[49m\u001b[43mis_text\u001b[49m\u001b[38;5;241;43m=\u001b[39;49m\u001b[38;5;28;43;01mFalse\u001b[39;49;00m\n\u001b[0;32m   1404\u001b[0m \u001b[43m\u001b[49m\u001b[43m)\u001b[49m \u001b[38;5;28;01mas\u001b[39;00m handle:\n\u001b[0;32m   1405\u001b[0m     stream \u001b[38;5;241m=\u001b[39m handle\u001b[38;5;241m.\u001b[39mhandle\n\u001b[0;32m   1406\u001b[0m     stream\u001b[38;5;241m.\u001b[39mseek(\u001b[38;5;241m0\u001b[39m)\n",
      "File \u001b[1;32mc:\\Users\\user\\AppData\\Local\\Programs\\Python\\Python311\\Lib\\site-packages\\pandas\\io\\common.py:882\u001b[0m, in \u001b[0;36mget_handle\u001b[1;34m(path_or_buf, mode, encoding, compression, memory_map, is_text, errors, storage_options)\u001b[0m\n\u001b[0;32m    873\u001b[0m         handle \u001b[38;5;241m=\u001b[39m \u001b[38;5;28mopen\u001b[39m(\n\u001b[0;32m    874\u001b[0m             handle,\n\u001b[0;32m    875\u001b[0m             ioargs\u001b[38;5;241m.\u001b[39mmode,\n\u001b[1;32m   (...)\u001b[0m\n\u001b[0;32m    878\u001b[0m             newline\u001b[38;5;241m=\u001b[39m\u001b[38;5;124m\"\u001b[39m\u001b[38;5;124m\"\u001b[39m,\n\u001b[0;32m    879\u001b[0m         )\n\u001b[0;32m    880\u001b[0m     \u001b[38;5;28;01melse\u001b[39;00m:\n\u001b[0;32m    881\u001b[0m         \u001b[38;5;66;03m# Binary mode\u001b[39;00m\n\u001b[1;32m--> 882\u001b[0m         handle \u001b[38;5;241m=\u001b[39m \u001b[38;5;28mopen\u001b[39m(handle, ioargs\u001b[38;5;241m.\u001b[39mmode)\n\u001b[0;32m    883\u001b[0m     handles\u001b[38;5;241m.\u001b[39mappend(handle)\n\u001b[0;32m    885\u001b[0m \u001b[38;5;66;03m# Convert BytesIO or file objects passed with an encoding\u001b[39;00m\n",
      "\u001b[1;31mFileNotFoundError\u001b[0m: [Errno 2] No such file or directory: 'df2_data.xlsx'"
     ]
    }
   ],
   "source": [
    "# Reading from an Excel file\n",
    "df = pd.read_excel('df2_data.xlsx', sheet_name='Sheet1')\n",
    "print(df)\n"
   ]
  },
  {
   "cell_type": "code",
   "execution_count": null,
   "id": "50c61c03",
   "metadata": {},
   "outputs": [],
   "source": [
    "df3 = pd.read_excel('my-first-data.xlsx')\n",
    "print(df3)"
   ]
  },
  {
   "cell_type": "markdown",
   "id": "4661dfd4",
   "metadata": {},
   "source": [
    "##### **Writing Excel Files**\n",
    "\n",
    "You can write a DataFrame to an Excel file using the `to_excel()` function:"
   ]
  },
  {
   "cell_type": "code",
   "execution_count": null,
   "id": "ae3d96bd",
   "metadata": {},
   "outputs": [],
   "source": [
    "# Writing to an Excel file\n",
    "df3.to_excel('my-second-data.xlsx', sheet_name='Sheet1', index=False)\n"
   ]
  },
  {
   "cell_type": "markdown",
   "id": "8c6b293b",
   "metadata": {},
   "source": [
    "#### 5. Other DataFrame Operations\n",
    "Pandas also provides various useful functions for data cleaning, reshaping, and summarizing data.\n",
    "\n",
    "##### **Descriptive Statistics:** \n",
    "\n",
    "You can use functions like `mean(), sum(), min(), max(), and describe()` to summarize data.\n"
   ]
  },
  {
   "cell_type": "code",
   "execution_count": null,
   "id": "a9efa1ff",
   "metadata": {},
   "outputs": [],
   "source": [
    "# Basic statistics\n",
    "print(df.describe())  # Summary of numeric columns\n",
    "print(df['Age'].var())  # Mean salary\n"
   ]
  },
  {
   "cell_type": "markdown",
   "id": "c8b07eed",
   "metadata": {},
   "source": [
    "##### **Handling Missing Data:** \n",
    "\n",
    "You can detect and handle missing values using functions like `isnull(), fillna(), and dropna()`."
   ]
  },
  {
   "cell_type": "code",
   "execution_count": null,
   "id": "0bd7d563",
   "metadata": {},
   "outputs": [],
   "source": [
    "# Detect missing values\n",
    "print(df.isnull())\n",
    "\n",
    "# Fill missing values\n",
    "df['Age'] = df['Age'].fillna(df['Age'].mean())\n",
    "\n",
    "# Drop rows with missing values\n",
    "df = df.dropna()\n"
   ]
  },
  {
   "cell_type": "markdown",
   "id": "17b783e6",
   "metadata": {},
   "source": [
    "#### DataFrame Sorting: \n",
    "    \n",
    "You can sort DataFrame rows by a specific column using sort_values():"
   ]
  },
  {
   "cell_type": "code",
   "execution_count": 15,
   "id": "d7351778",
   "metadata": {},
   "outputs": [
    {
     "name": "stdout",
     "output_type": "stream",
     "text": [
      "   Name  Age  Salary\n",
      "1  John   30   60000\n",
      "2  Uche   35   70000\n"
     ]
    }
   ],
   "source": [
    "# Sort by 'Age' column\n",
    "df_sorted = df.sort_values(by='Age')\n",
    "print(df_sorted)"
   ]
  },
  {
   "cell_type": "markdown",
   "id": "bde88662",
   "metadata": {},
   "source": [
    "##### Arrange in ascending/descending order"
   ]
  },
  {
   "cell_type": "code",
   "execution_count": 14,
   "id": "985d451d",
   "metadata": {},
   "outputs": [
    {
     "name": "stdout",
     "output_type": "stream",
     "text": [
      "Ascending: ['Afusat', 'Bola', 'Clement', 'Deola', 'Okoro']\n",
      "Descending: ['Okoro', 'Deola', 'Clement', 'Bola', 'Afusat']\n"
     ]
    }
   ],
   "source": [
    "names = ['Bola','Deola', 'Okoro','Afusat', 'Clement']\n",
    "\n",
    "# Ascending order\n",
    "ascending_names = sorted(names)\n",
    "print(\"Ascending:\", ascending_names)\n",
    "\n",
    "# Descending order\n",
    "descending_names = sorted(names, reverse=True)\n",
    "print(\"Descending:\", descending_names)\n"
   ]
  },
  {
   "cell_type": "code",
   "execution_count": 16,
   "id": "2ceb77a1",
   "metadata": {},
   "outputs": [
    {
     "data": {
      "text/plain": [
       "[0, 1, 4, 6, 8, 9]"
      ]
     },
     "execution_count": 16,
     "metadata": {},
     "output_type": "execute_result"
    }
   ],
   "source": [
    "import pandas as pd\n",
    "values = [4, 6, 8, 1, 0, 9]\n",
    "sorted_values = sorted(values)\n",
    "sorted_values"
   ]
  },
  {
   "cell_type": "markdown",
   "id": "66d2ba08",
   "metadata": {},
   "source": [
    "### Ranking a list"
   ]
  },
  {
   "cell_type": "code",
   "execution_count": 17,
   "id": "25e6c001",
   "metadata": {},
   "outputs": [
    {
     "name": "stdout",
     "output_type": "stream",
     "text": [
      "    values  rank\n",
      "0    0.444     7\n",
      "1    0.051    12\n",
      "2    0.337    11\n",
      "3    0.705     1\n",
      "4    0.423     9\n",
      "5    0.423     9\n",
      "6    0.453     6\n",
      "7    0.514     2\n",
      "8    0.433     8\n",
      "9    0.458     5\n",
      "10   0.481     4\n",
      "11   0.481     4\n",
      "12   0.500     3\n",
      "13   0.514     2\n",
      "14   0.405    10\n"
     ]
    }
   ],
   "source": [
    "import pandas as pd\n",
    "# Sample data (assuming it's in a list)\n",
    "data = [0.444, 0.051, 0.337, 0.705, 0.423, 0.423, 0.453, 0.514, 0.433, 0.458, 0.481, 0.481, 0.500, 0.514, 0.405]\n",
    "\n",
    "# Create a DataFrame\n",
    "df = pd.DataFrame({'values': data})\n",
    "\n",
    "# Rank the values, handling ties appropriately\n",
    "df['rank'] = df['values'].rank(method='dense', ascending=False)\n",
    "\n",
    "# Remove decimal part of the ranks\n",
    "df['rank'] = df['rank'].astype(int)\n",
    "\n",
    "print(df)"
   ]
  },
  {
   "cell_type": "markdown",
   "id": "e721e72d",
   "metadata": {},
   "source": [
    "#### Summary\n",
    "\n",
    "•\tSeries: One-dimensional labeled arrays.\n",
    "\n",
    "•\tDataFrames: Two-dimensional tables of data with labeled rows and columns.\n",
    "\n",
    "•\tBasic operations like filtering, adding/removing columns, and modifying data are easy with Pandas.\n",
    "\n",
    "•\tPandas makes reading from and writing to files (CSV, Excel) very straightforward.\n",
    "\n",
    "•\tUseful methods include describe(), dropna(), fillna(), sort_values(), and more.\n",
    "\n",
    "•   Pandas is an essential library for any data manipulation tasks in Python, making it a cornerstone for data science and machine learning workflows.\n"
   ]
  }
 ],
 "metadata": {
  "kernelspec": {
   "display_name": "Python 3",
   "language": "python",
   "name": "python3"
  },
  "language_info": {
   "codemirror_mode": {
    "name": "ipython",
    "version": 3
   },
   "file_extension": ".py",
   "mimetype": "text/x-python",
   "name": "python",
   "nbconvert_exporter": "python",
   "pygments_lexer": "ipython3",
   "version": "3.13.7"
  }
 },
 "nbformat": 4,
 "nbformat_minor": 5
}
